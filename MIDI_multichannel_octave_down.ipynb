{
 "cells": [
  {
   "cell_type": "code",
   "execution_count": null,
   "metadata": {},
   "outputs": [],
   "source": [
    "import numpy as np\n",
    "import scipy.io\n",
    "from midiutil import MIDIFile\n",
    "from utils import *"
   ]
  },
  {
   "cell_type": "code",
   "execution_count": null,
   "metadata": {},
   "outputs": [],
   "source": [
    "key_time = 50e-3*0.5\n",
    "Fs = 48000\n",
    "\n",
    "#keys = scipy.io.loadmat('MATLAB_data/31Jan_jc_upper_octave_noise.mat')['key']\n",
    "keys = scipy.io.loadmat('MATLAB_data/jc_upper_octave.mat')['key']\n",
    "notes_list = scipy.io.loadmat('notes_100.mat')['notes']\n",
    "freq_list = scipy.io.loadmat('freq_480_octave_down.mat')['f_cropped']\n",
    "# notes_list = scipy.io.loadmat('notes_88.mat')['notes']\n",
    "# freq_list = scipy.io.loadmat('freq_480.mat')['f_cropped']\n",
    "#freq_list = scipy.io.loadmat('freq_441.mat')['f_cropped']\n",
    "notes_list = notes_list.reshape(np.size(notes_list))\n",
    "freq_list = freq_list.reshape(np.size(freq_list))\n",
    "\n",
    "note_num = 100 #88+12, 12 from upper octave"
   ]
  },
  {
   "cell_type": "code",
   "execution_count": null,
   "metadata": {},
   "outputs": [],
   "source": [
    "notes = []\n",
    "for i in range(np.shape(keys)[0]):\n",
    "    cur_key = keys[i]\n",
    "    cur_freq = freq_list[i]\n",
    "    notes = picknotes(cur_key,cur_freq,notes,notes_list)\n",
    "\n",
    "print(len(notes))"
   ]
  },
  {
   "cell_type": "code",
   "execution_count": null,
   "metadata": {},
   "outputs": [],
   "source": [
    "notes = sorted(notes, key = lambda note: note.start)\n",
    "notes = sorted(notes, key = lambda note: -note.pitch)"
   ]
  },
  {
   "cell_type": "code",
   "execution_count": null,
   "metadata": {},
   "outputs": [],
   "source": [
    "for note in notes:\n",
    "    print(note)"
   ]
  },
  {
   "cell_type": "code",
   "execution_count": null,
   "metadata": {},
   "outputs": [],
   "source": [
    "new_notes = remove_repetitive(notes,note_num)\n",
    "for note in new_notes:\n",
    "    print(note)"
   ]
  },
  {
   "cell_type": "code",
   "execution_count": null,
   "metadata": {},
   "outputs": [],
   "source": [
    "print(len(new_notes))"
   ]
  },
  {
   "cell_type": "code",
   "execution_count": null,
   "metadata": {},
   "outputs": [],
   "source": [
    "nnew_notes = multichannel(new_notes,note_num)\n",
    "for note in nnew_notes:\n",
    "    print(note)"
   ]
  },
  {
   "cell_type": "code",
   "execution_count": null,
   "metadata": {},
   "outputs": [],
   "source": [
    "import matplotlib.pyplot as plt\n",
    "def plot_notes(note_list):\n",
    "    time_lower = []\n",
    "    pitch_lower = []\n",
    "    time_upper = []\n",
    "    pitch_upper = []\n",
    "    for note in note_list:\n",
    "        if note.pitch < 89:\n",
    "            time_lower.append(note.start)\n",
    "            pitch_lower.append(note.pitch)\n",
    "        else:\n",
    "            time_upper.append(note.start)\n",
    "            pitch_upper.append(note.pitch)\n",
    "        \n",
    "    plt.scatter(time_upper,pitch_upper,s=1)\n",
    "    plt.scatter(time_lower,pitch_lower,s=1)"
   ]
  },
  {
   "cell_type": "code",
   "execution_count": null,
   "metadata": {},
   "outputs": [],
   "source": [
    "def plot_notes(note_list):\n",
    "    time =[]\n",
    "    pitch = []\n",
    "    for note in note_list:\n",
    "        time.append(note.start)\n",
    "        pitch.append(note.pitch)\n",
    "    plt.scatter(time,pitch,s=1)"
   ]
  },
  {
   "cell_type": "code",
   "execution_count": null,
   "metadata": {},
   "outputs": [],
   "source": [
    "plot_notes(new_notes)"
   ]
  },
  {
   "cell_type": "code",
   "execution_count": null,
   "metadata": {},
   "outputs": [],
   "source": [
    "mf = MIDIFile(1)     # only 1 track\n",
    "track = 0   # the only track\n",
    "time = 0    # start at the beginning\n",
    "mf.addTrackName(track, time, \"Sample Track\")\n",
    "mf.addTempo(track, time, 1200)"
   ]
  },
  {
   "cell_type": "code",
   "execution_count": null,
   "metadata": {},
   "outputs": [],
   "source": [
    "for note in nnew_notes:\n",
    "    v = int(50+note.sign()*12.5)\n",
    "    mf.addNote(track,note.channel,note.pitch+20, note.start, note.end-note.start+1,v)"
   ]
  },
  {
   "cell_type": "code",
   "execution_count": null,
   "metadata": {},
   "outputs": [],
   "source": [
    "with open(\"midifile/jc_upper_octave_.mid\", 'wb') as outf:\n",
    "   mf.writeFile(outf)"
   ]
  },
  {
   "cell_type": "code",
   "execution_count": null,
   "metadata": {},
   "outputs": [],
   "source": [
    "# print(len(nnew_notes))\n",
    "# print(len(notes))"
   ]
  },
  {
   "cell_type": "code",
   "execution_count": null,
   "metadata": {},
   "outputs": [],
   "source": [
    "# def picknotes_old(cur_key,cur_freq):\n",
    "#     j = 0\n",
    "#     while j < len(cur_key):\n",
    "#         if cur_key[j] != 0:\n",
    "            \n",
    "#             d = {}\n",
    "#             d['note'] = cur_key[j]\n",
    "#             d['start'] = j\n",
    "#             while cur_key[j] != 0 and j < len(cur_key)-1:\n",
    "#                 j += 1\n",
    "#             d['end'] = j - 1\n",
    "#             intensity = get_intensity(cur_key[j-1],cur_freq,notes_list[cur_key[j-1]-1])\n",
    "#             d['intensity'] = intensity\n",
    "#             notes.append(d)\n",
    "#         j += 1"
   ]
  }
 ],
 "metadata": {
  "kernelspec": {
   "display_name": "base",
   "language": "python",
   "name": "python3"
  },
  "language_info": {
   "codemirror_mode": {
    "name": "ipython",
    "version": 3
   },
   "file_extension": ".py",
   "mimetype": "text/x-python",
   "name": "python",
   "nbconvert_exporter": "python",
   "pygments_lexer": "ipython3",
   "version": "3.8.15"
  },
  "orig_nbformat": 4,
  "vscode": {
   "interpreter": {
    "hash": "e4ba2c2835bac95b056450fe4ad657800f897c097f78b31e6de995f2a103de5f"
   }
  }
 },
 "nbformat": 4,
 "nbformat_minor": 2
}
