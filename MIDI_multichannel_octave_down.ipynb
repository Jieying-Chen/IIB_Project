{
 "cells": [
  {
   "cell_type": "code",
   "execution_count": 1,
   "metadata": {},
   "outputs": [],
   "source": [
    "import numpy as np\n",
    "import scipy.io\n",
    "from midiutil import MIDIFile"
   ]
  },
  {
   "cell_type": "code",
   "execution_count": 5,
   "metadata": {},
   "outputs": [],
   "source": [
    "key_time = 50e-3*0.5\n",
    "Fs = 48000\n",
    "\n",
    "keys = scipy.io.loadmat('MATLAB_data/31Jan_jc_upper_octave.mat')['key']\n",
    "notes_list = scipy.io.loadmat('notes_88.mat')['notes']\n",
    "freq_list = scipy.io.loadmat('freq_480.mat')['f_cropped']\n",
    "#freq_list = scipy.io.loadmat('freq_441.mat')['f_cropped']\n",
    "notes_list = notes_list.reshape(np.size(notes_list))\n",
    "freq_list = freq_list.reshape(np.size(freq_list))"
   ]
  },
  {
   "cell_type": "code",
   "execution_count": null,
   "metadata": {},
   "outputs": [],
   "source": [
    "class Note:\n",
    "    def __init__(self, pitch, start, end, intensity, channel = -1):\n",
    "        self.pitch = pitch\n",
    "        self.start = start\n",
    "        self.end = end\n",
    "        self.intensity = intensity\n",
    "        self.channel = channel"
   ]
  },
  {
   "cell_type": "code",
   "execution_count": 6,
   "metadata": {},
   "outputs": [],
   "source": [
    "def get_intensity(cur_key,cur_freq,wave_freq):\n",
    "    if cur_key == 1:\n",
    "        sigma = notes_list[1]-notes_list[0]\n",
    "    else:\n",
    "        sigma = notes_list[cur_key-1]-notes_list[cur_key-2]\n",
    "    sigma = sigma/2\n",
    "    intensity = np.exp(-0.5 *((cur_freq-wave_freq)/sigma)**2)\n",
    "    #print('cur', cur_freq,'wave',wave_freq)\n",
    "    return intensity"
   ]
  },
  {
   "cell_type": "code",
   "execution_count": null,
   "metadata": {},
   "outputs": [],
   "source": [
    "def picknotes(cur_key,cur_freq):\n",
    "    j = 0\n",
    "    while j < len(cur_key):\n",
    "        if cur_key[j] != 0:\n",
    "            pitch = cur_key[j]\n",
    "            start = j\n",
    "            while cur_key[j] != 0 and j < len(cur_key)-1:\n",
    "                j += 1\n",
    "            intensity = get_intensity(cur_key[j-1],cur_freq,notes_list[cur_key[j-1]-1])\n",
    "            notes.append(Note(pitch, start, j - 1, intensity))\n",
    "        j += 1"
   ]
  },
  {
   "cell_type": "code",
   "execution_count": 8,
   "metadata": {},
   "outputs": [
    {
     "ename": "IndexError",
     "evalue": "index 1784 is out of bounds for axis 0 with size 1784",
     "output_type": "error",
     "traceback": [
      "\u001b[1;31m---------------------------------------------------------------------------\u001b[0m",
      "\u001b[1;31mIndexError\u001b[0m                                Traceback (most recent call last)",
      "Cell \u001b[1;32mIn [8], line 4\u001b[0m\n\u001b[0;32m      2\u001b[0m \u001b[39mfor\u001b[39;00m i \u001b[39min\u001b[39;00m \u001b[39mrange\u001b[39m(np\u001b[39m.\u001b[39mshape(keys)[\u001b[39m0\u001b[39m]):\n\u001b[0;32m      3\u001b[0m     cur_key \u001b[39m=\u001b[39m keys[i]\n\u001b[1;32m----> 4\u001b[0m     cur_freq \u001b[39m=\u001b[39m freq_list[i]\n\u001b[0;32m      5\u001b[0m     picknotes(cur_key,cur_freq)\n",
      "\u001b[1;31mIndexError\u001b[0m: index 1784 is out of bounds for axis 0 with size 1784"
     ]
    }
   ],
   "source": [
    "notes = []\n",
    "for i in range(np.shape(keys)[0]):\n",
    "    cur_key = keys[i]\n",
    "    cur_freq = freq_list[i]\n",
    "    picknotes(cur_key,cur_freq)"
   ]
  },
  {
   "cell_type": "code",
   "execution_count": null,
   "metadata": {},
   "outputs": [],
   "source": [
    "print(len(notes))"
   ]
  },
  {
   "cell_type": "code",
   "execution_count": 3,
   "metadata": {},
   "outputs": [
    {
     "ename": "NameError",
     "evalue": "name 'notes' is not defined",
     "output_type": "error",
     "traceback": [
      "\u001b[1;31m---------------------------------------------------------------------------\u001b[0m",
      "\u001b[1;31mNameError\u001b[0m                                 Traceback (most recent call last)",
      "Cell \u001b[1;32mIn [3], line 1\u001b[0m\n\u001b[1;32m----> 1\u001b[0m notes \u001b[39m=\u001b[39m \u001b[39msorted\u001b[39m(notes, key \u001b[39m=\u001b[39m \u001b[39mlambda\u001b[39;00m notes: notes[\u001b[39m\"\u001b[39m\u001b[39mstart\u001b[39m\u001b[39m\"\u001b[39m])\n\u001b[0;32m      2\u001b[0m notes \u001b[39m=\u001b[39m \u001b[39msorted\u001b[39m(notes, key \u001b[39m=\u001b[39m \u001b[39mlambda\u001b[39;00m notes: \u001b[39m-\u001b[39mnotes[\u001b[39m\"\u001b[39m\u001b[39mnote\u001b[39m\u001b[39m\"\u001b[39m])\n",
      "\u001b[1;31mNameError\u001b[0m: name 'notes' is not defined"
     ]
    }
   ],
   "source": [
    "notes = sorted(notes, key = lambda note: note.start)\n",
    "notes = sorted(notes, key = lambda note: -note.pitch)"
   ]
  },
  {
   "cell_type": "code",
   "execution_count": 4,
   "metadata": {},
   "outputs": [],
   "source": [
    "def remove_repetitive(notes):\n",
    "    note_set = [0]*88\n",
    "    i = 0\n",
    "    while i < len(notes):\n",
    "        note = notes[i]\n",
    "        if note_set[note.pitch-1] == 0:\n",
    "            note_set[note.pitch-1] = [(note.start,note.end)]\n",
    "        else:\n",
    "            if (note.start,note.end) in note_set[note.pitch-1]:\n",
    "                del notes[i]\n",
    "                i -= 1\n",
    "            else:\n",
    "                note_set[note.pitch-1].append((note.start,note.end))\n",
    "        i += 1\n",
    "    return notes"
   ]
  },
  {
   "cell_type": "code",
   "execution_count": null,
   "metadata": {},
   "outputs": [],
   "source": [
    "for note in notes:\n",
    "    print(note)"
   ]
  },
  {
   "cell_type": "code",
   "execution_count": null,
   "metadata": {},
   "outputs": [],
   "source": [
    "new_notes = remove_repetitive(notes)\n",
    "for note in new_notes:\n",
    "    print(note)"
   ]
  },
  {
   "cell_type": "code",
   "execution_count": null,
   "metadata": {},
   "outputs": [],
   "source": [
    "def multichannel(notes):    \n",
    "    channel = [0]*88\n",
    "    start_time = [-1]*88\n",
    "    for note in notes:\n",
    "        if channel[note.pitch-1]==0:\n",
    "            start_time[note.pitch-1]=note.start\n",
    "            note.channel=channel[note.pitch-1]\n",
    "            channel[note.pitch-1] += 1\n",
    "        else:\n",
    "            if note.start - start_time[note.pitch-1] < 10:\n",
    "                note.channel=channel[note.pitch-1]\n",
    "                channel[note.pitch-1] += 1\n",
    "            else:\n",
    "                channel[note.pitch-1] = 0\n",
    "                start_time[note.pitch-1]=note.start\n",
    "                note.channel=channel[note.pitch-1]\n",
    "                channel[note.pitch-1] += 1\n",
    "    return notes"
   ]
  },
  {
   "cell_type": "code",
   "execution_count": null,
   "metadata": {},
   "outputs": [],
   "source": [
    "nnew_notes = multichannel(new_notes)\n",
    "for note in nnew_notes:\n",
    "    print(note)"
   ]
  },
  {
   "cell_type": "code",
   "execution_count": null,
   "metadata": {},
   "outputs": [],
   "source": [
    "mf = MIDIFile(1)     # only 1 track\n",
    "track = 0   # the only track\n",
    "time = 0    # start at the beginning\n",
    "mf.addTrackName(track, time, \"Sample Track\")\n",
    "mf.addTempo(track, time, 1200)"
   ]
  },
  {
   "cell_type": "code",
   "execution_count": null,
   "metadata": {},
   "outputs": [],
   "source": [
    "for note in nnew_notes:\n",
    "    mf.addNote(track,note.channel,note.pitch+20, note.start, note.end-note.start+1,100)"
   ]
  },
  {
   "cell_type": "code",
   "execution_count": null,
   "metadata": {},
   "outputs": [],
   "source": [
    "with open(\"midifile/31Jan_jc_channel_upper_octave.mid\", 'wb') as outf:\n",
    "   mf.writeFile(outf)"
   ]
  },
  {
   "cell_type": "code",
   "execution_count": null,
   "metadata": {},
   "outputs": [],
   "source": [
    "print(len(nnew_notes))\n",
    "print(len(notes))"
   ]
  },
  {
   "cell_type": "code",
   "execution_count": 7,
   "metadata": {},
   "outputs": [],
   "source": [
    "def picknotes_old(cur_key,cur_freq):\n",
    "    j = 0\n",
    "    while j < len(cur_key):\n",
    "        if cur_key[j] != 0:\n",
    "            \n",
    "            d = {}\n",
    "            d['note'] = cur_key[j]\n",
    "            d['start'] = j\n",
    "            while cur_key[j] != 0 and j < len(cur_key)-1:\n",
    "                j += 1\n",
    "            d['end'] = j - 1\n",
    "            intensity = get_intensity(cur_key[j-1],cur_freq,notes_list[cur_key[j-1]-1])\n",
    "            d['intensity'] = intensity\n",
    "            notes.append(d)\n",
    "        j += 1"
   ]
  }
 ],
 "metadata": {
  "kernelspec": {
   "display_name": "base",
   "language": "python",
   "name": "python3"
  },
  "language_info": {
   "codemirror_mode": {
    "name": "ipython",
    "version": 3
   },
   "file_extension": ".py",
   "mimetype": "text/x-python",
   "name": "python",
   "nbconvert_exporter": "python",
   "pygments_lexer": "ipython3",
   "version": "3.8.15"
  },
  "orig_nbformat": 4,
  "vscode": {
   "interpreter": {
    "hash": "e4ba2c2835bac95b056450fe4ad657800f897c097f78b31e6de995f2a103de5f"
   }
  }
 },
 "nbformat": 4,
 "nbformat_minor": 2
}
