{
 "cells": [
  {
   "cell_type": "code",
   "execution_count": 1,
   "metadata": {},
   "outputs": [],
   "source": [
    "import numpy as np\n",
    "import scipy.io\n",
    "from midiutil import MIDIFile\n",
    "from utils import *"
   ]
  },
  {
   "cell_type": "code",
   "execution_count": 2,
   "metadata": {},
   "outputs": [],
   "source": [
    "key_time = 50e-3*0.5\n",
    "Fs = 48000\n",
    "\n",
    "## picked keys\n",
    "keys = scipy.io.loadmat('MATLAB_data/23Feb_jc_key_2octave.mat')['key']\n",
    "\n",
    "##freq of notes on piano\n",
    "notes_list = scipy.io.loadmat('notes_112.mat')['notes'] \n",
    "#notes_list = scipy.io.loadmat('notes_100.mat')['notes'] \n",
    "# notes_list = scipy.io.loadmat('notes_88.mat')['notes']\n",
    "\n",
    "##freq of t-f components\n",
    "freq_list = scipy.io.loadmat('freq_480_two_octave_down.mat')['f_cropped'] \n",
    "#freq_list = scipy.io.loadmat('freq_480_octave_down.mat')['f_cropped'] \n",
    "# freq_list = scipy.io.loadmat('freq_480.mat')['f_cropped']\n",
    "# freq_list = scipy.io.loadmat('freq_441.mat')['f_cropped']\n",
    "\n",
    "\n",
    "notes_list = notes_list.reshape(np.size(notes_list))\n",
    "freq_list = freq_list.reshape(np.size(freq_list))\n",
    "\n",
    "note_num = 112 #88+12, 12 from upper octave\n",
    "\n",
    "intensity_map = scipy.io.loadmat('MATLAB_data/23Feb_jc_int_2octave.mat')['filtered_int_db']"
   ]
  },
  {
   "cell_type": "code",
   "execution_count": 4,
   "metadata": {},
   "outputs": [],
   "source": [
    "def intensity2sign(intensity):\n",
    "    thresholds = [35,55,75]\n",
    "    if intensity < thresholds[0]:\n",
    "        return 'p'\n",
    "    elif intensity < thresholds[1]:\n",
    "        return 'mp'\n",
    "    elif intensity < thresholds[2]:\n",
    "        return 'mf'\n",
    "    else:\n",
    "        return 'f'"
   ]
  },
  {
   "cell_type": "code",
   "execution_count": 5,
   "metadata": {},
   "outputs": [],
   "source": [
    "def picknotes(cur_key, cur_freq, cur_int, notes, notes_list):\n",
    "    j = 0\n",
    "    while j < len(cur_key):\n",
    "        if cur_key[j] == 0:\n",
    "            j += 1\n",
    "            continue\n",
    "        # if cur_key[j] > 88:\n",
    "        #     pitch = cur_key[j] - 12\n",
    "        # else:\n",
    "        #     pitch = cur_key[j]\n",
    "        pitch = cur_key[j]\n",
    "        while pitch > 88:\n",
    "            pitch -= 12\n",
    "        \n",
    "        start = j\n",
    "        ori_int = cur_int[j]\n",
    "        while cur_key[j] != 0 and j < len(cur_key)-1:\n",
    "            j += 1\n",
    "            ori_int = max(ori_int,cur_int[j])\n",
    "        end = j - 1\n",
    "        if end - start < 2: \n",
    "            end = start + 2 #all to 100ms\n",
    "     \n",
    "        intensity = get_intensity(cur_key[j-1],cur_freq,notes_list) * ori_int\n",
    "        #intensity = ori_int\n",
    "        #intensity = get_intensity(cur_key[j-1],cur_freq,notes_list) * 100\n",
    "        intensity_sign = intensity2sign(intensity)\n",
    "        #intensity_sign = intensity2sign(intensity)\n",
    "        notes.append(Note(pitch, start, end, intensity, intensity_sign))\n",
    "        j += 1\n",
    "    return notes"
   ]
  },
  {
   "cell_type": "code",
   "execution_count": 6,
   "metadata": {},
   "outputs": [
    {
     "name": "stdout",
     "output_type": "stream",
     "text": [
      "4131\n"
     ]
    }
   ],
   "source": [
    "notes = []\n",
    "for i in range(np.shape(keys)[0]):\n",
    "    cur_key = keys[i]\n",
    "    cur_int = intensity_map[i]\n",
    "    cur_freq = freq_list[i]\n",
    "    notes = picknotes(cur_key, cur_freq, cur_int, notes, notes_list)\n",
    "\n",
    "print(len(notes))"
   ]
  },
  {
   "cell_type": "code",
   "execution_count": 7,
   "metadata": {},
   "outputs": [
    {
     "name": "stdout",
     "output_type": "stream",
     "text": [
      "649\n"
     ]
    }
   ],
   "source": [
    "notes = sorted(notes, key = lambda note: note.start)\n",
    "new_notes = remove_repetitive(notes,note_num)\n",
    "# pprint(new_notes)\n",
    "print(len(new_notes))"
   ]
  },
  {
   "cell_type": "code",
   "execution_count": 8,
   "metadata": {},
   "outputs": [],
   "source": [
    "nnew_notes = multichannel(new_notes,note_num)"
   ]
  },
  {
   "cell_type": "code",
   "execution_count": 9,
   "metadata": {},
   "outputs": [],
   "source": [
    "mf = MIDIFile(1)     # only 1 track\n",
    "track = 0   # the only track\n",
    "time = 0    # start at the beginning\n",
    "mf.addTrackName(track, time, \"Sample Track\")\n",
    "mf.addTempo(track, time, 1200)"
   ]
  },
  {
   "cell_type": "code",
   "execution_count": 10,
   "metadata": {},
   "outputs": [],
   "source": [
    "for note in nnew_notes:\n",
    "    v = int(20+note.sign()*20-40)\n",
    "    #v = int(50+note.sign()*12.5)\n",
    "    #v = int(note.intensity)\n",
    "    mf.addNote(track,note.channel,note.pitch+20, note.start, note.end-note.start+1,v)"
   ]
  },
  {
   "cell_type": "code",
   "execution_count": 11,
   "metadata": {},
   "outputs": [],
   "source": [
    "with open(\"midifile/23Feb_jc_5.mid\", 'wb') as outf:\n",
    "   mf.writeFile(outf)"
   ]
  },
  {
   "cell_type": "code",
   "execution_count": null,
   "metadata": {},
   "outputs": [],
   "source": [
    "plot_notes(new_notes)"
   ]
  },
  {
   "cell_type": "code",
   "execution_count": null,
   "metadata": {},
   "outputs": [],
   "source": [
    "# def picknotes_old(cur_key,cur_freq):\n",
    "#     j = 0\n",
    "#     while j < len(cur_key):\n",
    "#         if cur_key[j] != 0:\n",
    "            \n",
    "#             d = {}\n",
    "#             d['note'] = cur_key[j]\n",
    "#             d['start'] = j\n",
    "#             while cur_key[j] != 0 and j < len(cur_key)-1:\n",
    "#                 j += 1\n",
    "#             d['end'] = j - 1\n",
    "#             intensity = get_intensity(cur_key[j-1],cur_freq,notes_list[cur_key[j-1]-1])\n",
    "#             d['intensity'] = intensity\n",
    "#             notes.append(d)\n",
    "#         j += 1"
   ]
  }
 ],
 "metadata": {
  "kernelspec": {
   "display_name": "base",
   "language": "python",
   "name": "python3"
  },
  "language_info": {
   "codemirror_mode": {
    "name": "ipython",
    "version": 3
   },
   "file_extension": ".py",
   "mimetype": "text/x-python",
   "name": "python",
   "nbconvert_exporter": "python",
   "pygments_lexer": "ipython3",
   "version": "3.8.15"
  },
  "orig_nbformat": 4,
  "vscode": {
   "interpreter": {
    "hash": "e4ba2c2835bac95b056450fe4ad657800f897c097f78b31e6de995f2a103de5f"
   }
  }
 },
 "nbformat": 4,
 "nbformat_minor": 2
}
