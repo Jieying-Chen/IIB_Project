{
 "cells": [
  {
   "cell_type": "code",
   "execution_count": null,
   "metadata": {},
   "outputs": [],
   "source": [
    "import numpy as np\n",
    "import scipy.io\n",
    "from midiutil import MIDIFile\n",
    "from utils import *"
   ]
  },
  {
   "cell_type": "code",
   "execution_count": null,
   "metadata": {},
   "outputs": [],
   "source": [
    "key_time = 50e-3*0.5\n",
    "Fs = 48000\n",
    "\n",
    "#keys = scipy.io.loadmat('MATLAB_data/31Jan_jc_upper_octave_noise.mat')['key']\n",
    "keys = scipy.io.loadmat('MATLAB_data/31Jan_jc_key.mat')['key']\n",
    "notes_list = scipy.io.loadmat('notes_100.mat')['notes']\n",
    "freq_list = scipy.io.loadmat('freq_480_octave_down.mat')['f_cropped']\n",
    "# notes_list = scipy.io.loadmat('notes_88.mat')['notes']\n",
    "# freq_list = scipy.io.loadmat('freq_480.mat')['f_cropped']\n",
    "#freq_list = scipy.io.loadmat('freq_441.mat')['f_cropped']\n",
    "notes_list = notes_list.reshape(np.size(notes_list))\n",
    "freq_list = freq_list.reshape(np.size(freq_list))\n",
    "\n",
    "note_num = 100 #88+12, 12 from upper octave"
   ]
  },
  {
   "cell_type": "code",
   "execution_count": null,
   "metadata": {},
   "outputs": [],
   "source": [
    "intensity_map = scipy.io.loadmat('MATLAB_data/31Jan_jc_int.mat')['filtered_int_db']"
   ]
  },
  {
   "cell_type": "code",
   "execution_count": null,
   "metadata": {},
   "outputs": [],
   "source": [
    "def intensity2sign_new(intensity):\n",
    "    if intensity < 35:\n",
    "        return 'p'\n",
    "    elif intensity < 55:\n",
    "        return 'mp'\n",
    "    elif intensity < 75:\n",
    "        return 'mf'\n",
    "    else:\n",
    "        return 'f'"
   ]
  },
  {
   "cell_type": "code",
   "execution_count": null,
   "metadata": {},
   "outputs": [],
   "source": [
    "def get_intensity(cur_key, cur_freq, notes_list):\n",
    "    wave_freq = notes_list[cur_key-1]\n",
    "    if cur_key == 1:\n",
    "        sigma = notes_list[1]-notes_list[0]\n",
    "    else:\n",
    "        sigma = notes_list[cur_key-1]-notes_list[cur_key-2]\n",
    "    sigma = sigma/2\n",
    "    intensity = np.exp(-0.5 *((cur_freq-wave_freq)/sigma)**2)\n",
    "    #print('cur', cur_freq,'wave',wave_freq)\n",
    "    return intensity"
   ]
  },
  {
   "cell_type": "code",
   "execution_count": null,
   "metadata": {},
   "outputs": [],
   "source": [
    "def picknotes(cur_key, cur_freq, cur_int, notes, notes_list):\n",
    "    j = 0\n",
    "    while j < len(cur_key):\n",
    "        if cur_key[j] == 0:\n",
    "            j += 1\n",
    "            continue\n",
    "        if cur_key[j] > 88:\n",
    "            pitch = cur_key[j] - 12\n",
    "        else:\n",
    "            pitch = cur_key[j]\n",
    "        start = j\n",
    "        ori_int = cur_int[j]\n",
    "        while cur_key[j] != 0 and j < len(cur_key)-1:\n",
    "            j += 1\n",
    "            ori_int = max(ori_int,cur_int[j])\n",
    "        \n",
    "        #intensity = get_intensity(cur_key[j-1],cur_freq,notes_list) * ori_int\n",
    "        intensity = get_intensity(cur_key[j-1],cur_freq,notes_list)\n",
    "        #intensity = get_intensity(cur_key[j-1],cur_freq,notes_list)\n",
    "        #intensity_sign = intensity2sign_new(intensity)\n",
    "        intensity_sign = intensity2sign(intensity)\n",
    "        notes.append(Note(pitch, start, j - 1, intensity, intensity_sign))\n",
    "        j += 1\n",
    "    return notes"
   ]
  },
  {
   "cell_type": "code",
   "execution_count": null,
   "metadata": {},
   "outputs": [],
   "source": [
    "notes = []\n",
    "for i in range(np.shape(keys)[0]):\n",
    "    cur_key = keys[i]\n",
    "    cur_int = intensity_map[i]\n",
    "    cur_freq = freq_list[i]\n",
    "    notes = picknotes(cur_key, cur_freq, cur_int, notes, notes_list)\n",
    "\n",
    "print(len(notes))"
   ]
  },
  {
   "cell_type": "code",
   "execution_count": null,
   "metadata": {},
   "outputs": [],
   "source": [
    "def remove_repetitive(notes,note_num):\n",
    "    #changed\n",
    "    note_set = [0]*note_num\n",
    "    i = 0\n",
    "    while i < len(notes):\n",
    "        note = notes[i]\n",
    "        if note_set[note.pitch-1] == 0:\n",
    "            note_set[note.pitch-1] = [note]\n",
    "        else:\n",
    "            delete = False\n",
    "            for n in note_set[note.pitch-1]:\n",
    "                # print(n)\n",
    "                # print(n.start)\n",
    "                if n.start == note.start and n.end == note.end:\n",
    "                    n.intensity = max(n.intensity, note.intensity)\n",
    "                    #n.intensity_sign = intensity2sign_new(n.intensity)\n",
    "                    n.intensity_sign = intensity2sign(n.intensity)\n",
    "                    del notes[i]\n",
    "                    delete = True\n",
    "                    i -= 1\n",
    "                    break\n",
    "            if not delete:\n",
    "                note_set[note.pitch-1].append(note)\n",
    "        i += 1\n",
    "    return notes"
   ]
  },
  {
   "cell_type": "code",
   "execution_count": null,
   "metadata": {},
   "outputs": [],
   "source": [
    "#notes = sorted(notes, key = lambda note: note.start)\n",
    "notes = sorted(notes, key = lambda note: (note.pitch, note.start, note.end))"
   ]
  },
  {
   "cell_type": "code",
   "execution_count": null,
   "metadata": {},
   "outputs": [],
   "source": [
    "pprint(notes)"
   ]
  },
  {
   "cell_type": "code",
   "execution_count": null,
   "metadata": {},
   "outputs": [],
   "source": [
    "new_notes = remove_repetitive(notes,note_num)\n",
    "pprint(new_notes)\n",
    "print(len(new_notes))"
   ]
  },
  {
   "cell_type": "code",
   "execution_count": null,
   "metadata": {},
   "outputs": [],
   "source": [
    "nnew_notes = multichannel(new_notes,note_num)\n",
    "for note in nnew_notes:\n",
    "    print(note)"
   ]
  },
  {
   "cell_type": "code",
   "execution_count": null,
   "metadata": {},
   "outputs": [],
   "source": [
    "import matplotlib.pyplot as plt\n",
    "def plot_notes(note_list):\n",
    "    time_lower = []\n",
    "    pitch_lower = []\n",
    "    time_upper = []\n",
    "    pitch_upper = []\n",
    "    for note in note_list:\n",
    "        if note.pitch < 89:\n",
    "            time_lower.append(note.start)\n",
    "            pitch_lower.append(note.pitch)\n",
    "        else:\n",
    "            time_upper.append(note.start)\n",
    "            pitch_upper.append(note.pitch)\n",
    "        \n",
    "    plt.scatter(time_upper,pitch_upper,s=1)\n",
    "    plt.scatter(time_lower,pitch_lower,s=1)"
   ]
  },
  {
   "cell_type": "code",
   "execution_count": null,
   "metadata": {},
   "outputs": [],
   "source": [
    "def plot_notes(note_list):\n",
    "    time =[]\n",
    "    pitch = []\n",
    "    for note in note_list:\n",
    "        time.append(note.start)\n",
    "        pitch.append(note.pitch)\n",
    "    plt.scatter(time,pitch,s=1)"
   ]
  },
  {
   "cell_type": "code",
   "execution_count": null,
   "metadata": {},
   "outputs": [],
   "source": [
    "plot_notes(new_notes)"
   ]
  },
  {
   "cell_type": "code",
   "execution_count": null,
   "metadata": {},
   "outputs": [],
   "source": [
    "mf = MIDIFile(1)     # only 1 track\n",
    "track = 0   # the only track\n",
    "time = 0    # start at the beginning\n",
    "mf.addTrackName(track, time, \"Sample Track\")\n",
    "mf.addTempo(track, time, 1200)"
   ]
  },
  {
   "cell_type": "code",
   "execution_count": null,
   "metadata": {},
   "outputs": [],
   "source": [
    "for note in nnew_notes:\n",
    "    # v = int(20+note.sign()*20)\n",
    "    v = int(50+note.sign()*12.5)\n",
    "    mf.addNote(track,note.channel,note.pitch+20, note.start, note.end-note.start+1,v)"
   ]
  },
  {
   "cell_type": "code",
   "execution_count": null,
   "metadata": {},
   "outputs": [],
   "source": [
    "with open(\"midifile/31Jan_jc_upper_octave_int_4.mid\", 'wb') as outf:\n",
    "   mf.writeFile(outf)"
   ]
  },
  {
   "cell_type": "code",
   "execution_count": null,
   "metadata": {},
   "outputs": [],
   "source": [
    "# print(len(nnew_notes))\n",
    "# print(len(notes))"
   ]
  },
  {
   "cell_type": "code",
   "execution_count": null,
   "metadata": {},
   "outputs": [],
   "source": [
    "# def picknotes_old(cur_key,cur_freq):\n",
    "#     j = 0\n",
    "#     while j < len(cur_key):\n",
    "#         if cur_key[j] != 0:\n",
    "            \n",
    "#             d = {}\n",
    "#             d['note'] = cur_key[j]\n",
    "#             d['start'] = j\n",
    "#             while cur_key[j] != 0 and j < len(cur_key)-1:\n",
    "#                 j += 1\n",
    "#             d['end'] = j - 1\n",
    "#             intensity = get_intensity(cur_key[j-1],cur_freq,notes_list[cur_key[j-1]-1])\n",
    "#             d['intensity'] = intensity\n",
    "#             notes.append(d)\n",
    "#         j += 1"
   ]
  }
 ],
 "metadata": {
  "kernelspec": {
   "display_name": "base",
   "language": "python",
   "name": "python3"
  },
  "language_info": {
   "codemirror_mode": {
    "name": "ipython",
    "version": 3
   },
   "file_extension": ".py",
   "mimetype": "text/x-python",
   "name": "python",
   "nbconvert_exporter": "python",
   "pygments_lexer": "ipython3",
   "version": "3.8.15"
  },
  "orig_nbformat": 4,
  "vscode": {
   "interpreter": {
    "hash": "e4ba2c2835bac95b056450fe4ad657800f897c097f78b31e6de995f2a103de5f"
   }
  }
 },
 "nbformat": 4,
 "nbformat_minor": 2
}
