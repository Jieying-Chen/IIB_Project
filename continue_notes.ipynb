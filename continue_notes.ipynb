{
 "cells": [
  {
   "cell_type": "code",
   "execution_count": 82,
   "metadata": {},
   "outputs": [],
   "source": [
    "import numpy as np\n",
    "import scipy.io\n"
   ]
  },
  {
   "cell_type": "code",
   "execution_count": 83,
   "metadata": {},
   "outputs": [],
   "source": [
    "keys = scipy.io.loadmat('key.mat')['key']\n",
    "notes_list = scipy.io.loadmat('notes.mat')['notes']\n",
    "notes_list = notes_list.reshape(np.size(notes_list))"
   ]
  },
  {
   "cell_type": "code",
   "execution_count": null,
   "metadata": {},
   "outputs": [],
   "source": [
    "print(np.shape(keys))"
   ]
  },
  {
   "cell_type": "code",
   "execution_count": null,
   "metadata": {},
   "outputs": [],
   "source": [
    "print(keys[71:73])"
   ]
  },
  {
   "cell_type": "code",
   "execution_count": 84,
   "metadata": {},
   "outputs": [],
   "source": [
    "key_time = 50e-3\n",
    "Fs = 48000"
   ]
  },
  {
   "cell_type": "code",
   "execution_count": 85,
   "metadata": {},
   "outputs": [],
   "source": [
    "def picknotes(cur_freq):\n",
    "    j = 0\n",
    "    while j < len(cur_freq):\n",
    "        if cur_freq[j] != 0:\n",
    "            \n",
    "            d = {}\n",
    "            d['note'] = cur_freq[j]\n",
    "            d['start'] = j\n",
    "            while cur_freq[j] != 0:\n",
    "                j += 1\n",
    "            d['end'] = j - 1\n",
    "            notes.append(d)\n",
    "        j += 1\n",
    "# picknotes(keys[500])     \n",
    "# print(notes)      \n"
   ]
  },
  {
   "cell_type": "code",
   "execution_count": 86,
   "metadata": {},
   "outputs": [],
   "source": [
    "def key2wave(key,start,end):\n",
    "    freq = notes_list[key-1]\n",
    "    duration = (end - start + 1) * key_time\n",
    "    t = np.arange(0,duration*Fs+1)/Fs\n",
    "    wave = np.sin(2*np.pi*freq*t)\n",
    "    return wave\n"
   ]
  },
  {
   "cell_type": "code",
   "execution_count": null,
   "metadata": {},
   "outputs": [],
   "source": [
    "notes = []\n",
    "for i in range(np.shape(keys)[0]):\n",
    "    cur_freq = keys[i]\n",
    "    picknotes(cur_freq)\n",
    "    \n"
   ]
  },
  {
   "cell_type": "code",
   "execution_count": 88,
   "metadata": {},
   "outputs": [],
   "source": [
    "\n",
    "subwin = np.arange(0,key_time*Fs+1)/Fs\n",
    "signal = np.zeros(len(subwin)*np.shape(keys)[1])"
   ]
  },
  {
   "cell_type": "code",
   "execution_count": 90,
   "metadata": {},
   "outputs": [],
   "source": [
    "for note in notes:\n",
    "    wave = key2wave(note['note'], note['start'],note['end'])\n",
    "    x = note['start'] * len(subwin)\n",
    "    signal[x:x+len(wave)] = wave"
   ]
  },
  {
   "cell_type": "code",
   "execution_count": 91,
   "metadata": {},
   "outputs": [],
   "source": [
    "scipy.io.savemat('signal.mat', {\"data\": signal })"
   ]
  },
  {
   "cell_type": "code",
   "execution_count": null,
   "metadata": {},
   "outputs": [],
   "source": [
    "print(np.shape(signal))"
   ]
  },
  {
   "cell_type": "code",
   "execution_count": null,
   "metadata": {},
   "outputs": [],
   "source": []
  }
 ],
 "metadata": {
  "kernelspec": {
   "display_name": "Python 3.8.3 ('base')",
   "language": "python",
   "name": "python3"
  },
  "language_info": {
   "codemirror_mode": {
    "name": "ipython",
    "version": 3
   },
   "file_extension": ".py",
   "mimetype": "text/x-python",
   "name": "python",
   "nbconvert_exporter": "python",
   "pygments_lexer": "ipython3",
   "version": "3.8.3"
  },
  "orig_nbformat": 4,
  "vscode": {
   "interpreter": {
    "hash": "e4ba2c2835bac95b056450fe4ad657800f897c097f78b31e6de995f2a103de5f"
   }
  }
 },
 "nbformat": 4,
 "nbformat_minor": 2
}
