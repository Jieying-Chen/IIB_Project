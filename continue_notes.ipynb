{
 "cells": [
  {
   "cell_type": "code",
   "execution_count": 1,
   "metadata": {},
   "outputs": [],
   "source": [
    "import numpy as np\n",
    "import scipy.io\n"
   ]
  },
  {
   "cell_type": "code",
   "execution_count": 26,
   "metadata": {},
   "outputs": [],
   "source": [
    "keys = scipy.io.loadmat('key.mat')['key']"
   ]
  },
  {
   "cell_type": "code",
   "execution_count": 50,
   "metadata": {},
   "outputs": [
    {
     "name": "stdout",
     "output_type": "stream",
     "text": [
      "[[ 0  0  0  0  0  0  0  0  0  0  0  0  0  0  0  0  0  0 35 35  0  0  0  0\n",
      "   0  0  0  0  0  0  0  0  0  0  0  0  0 35 35 35 35 35 35  0  0 35 35  0\n",
      "   0  0  0  0  0  0  0  0  0  0  0 35 35 35 35  0  0  0  0  0  0  0  0  0\n",
      "   0  0  0  0  0  0  0  0  0  0  0  0  0  0  0 35 35 35 35 35 35  0  0  0\n",
      "   0  0  0  0  0  0  0  0  0  0 35  0 35 35  0 35  0  0  0  0  0  0  0  0\n",
      "   0  0  0  0  0  0  0  0  0  0  0  0  0  0  0  0  0]\n",
      " [ 0  0  0  0  0  0  0  0  0  0  0  0  0  0  0  0  0  0 35 35 35  0  0  0\n",
      "   0  0  0  0  0  0  0  0  0  0  0  0  0 35 35 35 35 35 35  0  0 35 35  0\n",
      "   0  0  0  0  0  0  0  0  0  0  0 35 35 35 35 35  0  0  0  0  0  0  0  0\n",
      "   0  0  0  0  0  0  0  0  0  0  0  0  0  0  0 35 35 35 35 35 35  0  0  0\n",
      "   0  0  0  0  0  0  0  0  0  0 35  0 35 35  0 35  0  0  0  0  0  0  0  0\n",
      "   0  0  0  0  0  0  0  0  0  0  0  0  0  0  0  0  0]]\n"
     ]
    }
   ],
   "source": [
    "print(keys[71:73])"
   ]
  },
  {
   "cell_type": "code",
   "execution_count": 51,
   "metadata": {},
   "outputs": [],
   "source": [
    "def picknotes(cur_freq):\n",
    "    j = 0\n",
    "    while j < len(cur_freq):\n",
    "        if cur_freq[j] != 0:\n",
    "            \n",
    "            d = {}\n",
    "            d['note'] = cur_freq[j]\n",
    "            d['start'] = j\n",
    "            while cur_freq[j] != 0:\n",
    "                j += 1\n",
    "            d['end'] = j - 1\n",
    "            notes.append(d)\n",
    "        j += 1\n",
    "# picknotes(keys[500])     \n",
    "# print(notes)      \n"
   ]
  },
  {
   "cell_type": "code",
   "execution_count": null,
   "metadata": {},
   "outputs": [],
   "source": [
    "notes = []\n",
    "for i in range(np.shape(keys)[0]):\n",
    "    cur_freq = keys[i]\n",
    "    picknotes(cur_freq)\n",
    "    \n",
    "print(notes)"
   ]
  },
  {
   "cell_type": "code",
   "execution_count": 62,
   "metadata": {},
   "outputs": [
    {
     "name": "stdout",
     "output_type": "stream",
     "text": [
      "2401\n"
     ]
    }
   ],
   "source": [
    "key_time = 50e-3\n",
    "Fs = 48000\n",
    "subwin = np.arange(0,key_time*Fs+1)/Fs\n",
    "print(np.size(subwin))"
   ]
  },
  {
   "cell_type": "code",
   "execution_count": null,
   "metadata": {},
   "outputs": [],
   "source": [
    "key_time = 50e-3\n",
    "Fs = 44100\n",
    "subwin = np.arange(0,key_time*Fs)/Fs\n",
    "subwin = 0:1/Fs:key_time\n",
    "signal = np.zeros(1,length(subwin)*length(key(1,:)));"
   ]
  }
 ],
 "metadata": {
  "kernelspec": {
   "display_name": "Python 3.8.3 ('base')",
   "language": "python",
   "name": "python3"
  },
  "language_info": {
   "codemirror_mode": {
    "name": "ipython",
    "version": 3
   },
   "file_extension": ".py",
   "mimetype": "text/x-python",
   "name": "python",
   "nbconvert_exporter": "python",
   "pygments_lexer": "ipython3",
   "version": "3.8.3"
  },
  "orig_nbformat": 4,
  "vscode": {
   "interpreter": {
    "hash": "e4ba2c2835bac95b056450fe4ad657800f897c097f78b31e6de995f2a103de5f"
   }
  }
 },
 "nbformat": 4,
 "nbformat_minor": 2
}
