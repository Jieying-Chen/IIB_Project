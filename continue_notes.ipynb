{
 "cells": [
  {
   "cell_type": "code",
   "execution_count": 1,
   "metadata": {},
   "outputs": [],
   "source": [
    "import numpy as np\n",
    "import scipy.io\n"
   ]
  },
  {
   "cell_type": "code",
   "execution_count": null,
   "metadata": {},
   "outputs": [],
   "source": [
    "key_time = 50e-3\n",
    "Fs = 48000"
   ]
  },
  {
   "cell_type": "code",
   "execution_count": null,
   "metadata": {},
   "outputs": [],
   "source": [
    "keys1 = scipy.io.loadmat('key1.mat')['key1']\n",
    "keys2 = scipy.io.loadmat('key2.mat')['key2']\n",
    "keys3 = scipy.io.loadmat('key3.mat')['key3']\n",
    "notes_list = scipy.io.loadmat('notes_eighth.mat')['notes']\n",
    "freq_list = scipy.io.loadmat('freq_480.mat')['f_cropped']\n",
    "#freq_list = scipy.io.loadmat('freq_441.mat')['f_cropped']\n",
    "notes_list = notes_list.reshape(np.size(notes_list))\n",
    "freq_list = freq_list.reshape(np.size(freq_list))"
   ]
  },
  {
   "cell_type": "code",
   "execution_count": null,
   "metadata": {},
   "outputs": [],
   "source": [
    "maxi = 0"
   ]
  },
  {
   "cell_type": "code",
   "execution_count": null,
   "metadata": {},
   "outputs": [],
   "source": [
    "print(np.shape(notes_list))\n",
    "print(np.shape(freq_list))\n",
    "print(np.shape(keys1))\n"
   ]
  },
  {
   "cell_type": "code",
   "execution_count": null,
   "metadata": {},
   "outputs": [],
   "source": [
    "def get_intensity(cur_key,cur_freq,wave_freq):\n",
    "    if cur_key == 1:\n",
    "        sigma = notes_list[1]-notes_list[0]\n",
    "    else:\n",
    "        sigma = notes_list[cur_key-1]-notes_list[cur_key-2]\n",
    "    sigma = sigma/2\n",
    "    intensity = np.exp(-0.5 *((cur_freq-wave_freq)/sigma)**2)\n",
    "    #print('cur', cur_freq,'wave',wave_freq)\n",
    "    return intensity"
   ]
  },
  {
   "cell_type": "code",
   "execution_count": null,
   "metadata": {},
   "outputs": [],
   "source": [
    "def picknotes(cur_key,cur_freq,init_intensity):\n",
    "    j = 0\n",
    "    while j < len(cur_key):\n",
    "        if cur_key[j] != 0:\n",
    "            \n",
    "            d = {}\n",
    "            d['note'] = cur_key[j]\n",
    "            d['start'] = j\n",
    "            while cur_key[j] != 0 and j < len(cur_key)-1:\n",
    "                j += 1\n",
    "            d['end'] = j - 1\n",
    "            intensity = get_intensity(cur_key[j-1],cur_freq,notes_list[cur_key[j-1]-1])\n",
    "            d['intensity'] = intensity * init_intensity\n",
    "            notes.append(d)\n",
    "        j += 1\n",
    "# picknotes(keys[500])     \n",
    "# print(notes)      \n"
   ]
  },
  {
   "cell_type": "code",
   "execution_count": null,
   "metadata": {},
   "outputs": [],
   "source": [
    "def key2wave(key,start,end,intensity=1,maxi=0):\n",
    "    wave_freq = notes_list[key-1]\n",
    "    duration = (end - start + 1) * key_time\n",
    "    if duration > maxi:\n",
    "        maxi = duration\n",
    "        print(maxi)\n",
    "    t = np.arange(0,duration*Fs+1)/Fs\n",
    "    wave = intensity*np.sin(2*np.pi*wave_freq*t)\n",
    "    return wave,maxi\n"
   ]
  },
  {
   "cell_type": "code",
   "execution_count": null,
   "metadata": {},
   "outputs": [],
   "source": [
    "notes = []\n",
    "for i in range(np.shape(keys1)[0]):\n",
    "    cur_freq = freq_list[i]\n",
    "    cur_key1 = keys1[i]\n",
    "    picknotes(cur_key1,cur_freq,1)\n",
    "    cur_key2 = keys2[i]\n",
    "    picknotes(cur_key2,cur_freq,1)\n",
    "    cur_key3 = keys3[i]\n",
    "    picknotes(cur_key3,cur_freq,1)\n",
    "\n",
    "    \n"
   ]
  },
  {
   "cell_type": "code",
   "execution_count": null,
   "metadata": {},
   "outputs": [],
   "source": [
    "subwin = np.arange(0,key_time*Fs+1)/Fs\n",
    "signal = np.zeros(len(subwin)*np.shape(keys1)[1])"
   ]
  },
  {
   "cell_type": "code",
   "execution_count": null,
   "metadata": {},
   "outputs": [],
   "source": [
    "print(len(notes))"
   ]
  },
  {
   "cell_type": "code",
   "execution_count": null,
   "metadata": {},
   "outputs": [],
   "source": [
    "for note in notes:\n",
    "    wave,maxi = key2wave(note['note'], note['start'],note['end'],note['intensity'],maxi)\n",
    "    x = note['start'] * len(subwin)\n",
    "    signal[x:x+len(wave)] = signal[x:x+len(wave)]+wave"
   ]
  },
  {
   "cell_type": "code",
   "execution_count": null,
   "metadata": {},
   "outputs": [],
   "source": [
    "print(maxi)"
   ]
  },
  {
   "cell_type": "code",
   "execution_count": null,
   "metadata": {},
   "outputs": [],
   "source": [
    "scipy.io.savemat('signal2.mat', {\"data2\": signal })"
   ]
  }
 ],
 "metadata": {
  "kernelspec": {
   "display_name": "Python 3.8.3 ('base')",
   "language": "python",
   "name": "python3"
  },
  "language_info": {
   "codemirror_mode": {
    "name": "ipython",
    "version": 3
   },
   "file_extension": ".py",
   "mimetype": "text/x-python",
   "name": "python",
   "nbconvert_exporter": "python",
   "pygments_lexer": "ipython3",
   "version": "3.8.3"
  },
  "orig_nbformat": 4,
  "vscode": {
   "interpreter": {
    "hash": "e4ba2c2835bac95b056450fe4ad657800f897c097f78b31e6de995f2a103de5f"
   }
  }
 },
 "nbformat": 4,
 "nbformat_minor": 2
}
