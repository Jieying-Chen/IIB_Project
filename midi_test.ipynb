{
 "cells": [
  {
   "cell_type": "code",
   "execution_count": 1,
   "metadata": {},
   "outputs": [],
   "source": [
    "import numpy as np\n",
    "import scipy.io\n",
    "from midiutil import MIDIFile"
   ]
  },
  {
   "cell_type": "code",
   "execution_count": 2,
   "metadata": {},
   "outputs": [],
   "source": [
    "key_time = 50e-3*0.5\n",
    "Fs = 48000"
   ]
  },
  {
   "cell_type": "code",
   "execution_count": 3,
   "metadata": {},
   "outputs": [],
   "source": [
    "keys = scipy.io.loadmat('MATLAB_data/ks_25Jan.mat')['key']\n",
    "notes_list = scipy.io.loadmat('notes_88.mat')['notes']\n",
    "freq_list = scipy.io.loadmat('freq_480.mat')['f_cropped']\n",
    "#freq_list = scipy.io.loadmat('freq_441.mat')['f_cropped']\n",
    "notes_list = notes_list.reshape(np.size(notes_list))\n",
    "freq_list = freq_list.reshape(np.size(freq_list))"
   ]
  },
  {
   "cell_type": "code",
   "execution_count": 4,
   "metadata": {},
   "outputs": [
    {
     "name": "stdout",
     "output_type": "stream",
     "text": [
      "(88,)\n",
      "(1784,)\n",
      "(1784, 207)\n"
     ]
    }
   ],
   "source": [
    "print(np.shape(notes_list))\n",
    "print(np.shape(freq_list))\n",
    "print(np.shape(keys))\n"
   ]
  },
  {
   "cell_type": "code",
   "execution_count": 5,
   "metadata": {},
   "outputs": [],
   "source": [
    "def get_intensity(cur_key,cur_freq,wave_freq):\n",
    "    if cur_key == 1:\n",
    "        sigma = notes_list[1]-notes_list[0]\n",
    "    else:\n",
    "        sigma = notes_list[cur_key-1]-notes_list[cur_key-2]\n",
    "    sigma = sigma/2\n",
    "    intensity = np.exp(-0.5 *((cur_freq-wave_freq)/sigma)**2)\n",
    "    #print('cur', cur_freq,'wave',wave_freq)\n",
    "    return intensity"
   ]
  },
  {
   "cell_type": "code",
   "execution_count": 6,
   "metadata": {},
   "outputs": [],
   "source": [
    "def picknotes(cur_key,cur_freq):\n",
    "    j = 0\n",
    "    while j < len(cur_key):\n",
    "        if cur_key[j] != 0:\n",
    "            \n",
    "            d = {}\n",
    "            d['note'] = cur_key[j]\n",
    "            d['start'] = j\n",
    "            while cur_key[j] != 0 and j < len(cur_key)-1:\n",
    "                j += 1\n",
    "            d['end'] = j - 1\n",
    "            intensity = get_intensity(cur_key[j-1],cur_freq,notes_list[cur_key[j-1]-1])\n",
    "            d['intensity'] = intensity\n",
    "            notes.append(d)\n",
    "        j += 1\n",
    "# picknotes(keys[500])     \n",
    "# print(notes)      \n"
   ]
  },
  {
   "cell_type": "code",
   "execution_count": 7,
   "metadata": {},
   "outputs": [],
   "source": [
    "notes = []\n",
    "for i in range(np.shape(keys)[0]):\n",
    "    cur_key = keys[i]\n",
    "    cur_freq = freq_list[i]\n",
    "    picknotes(cur_key,cur_freq)\n",
    "    \n"
   ]
  },
  {
   "cell_type": "code",
   "execution_count": 8,
   "metadata": {},
   "outputs": [],
   "source": [
    "notes = sorted(notes, key = lambda notes: notes[\"start\"])"
   ]
  },
  {
   "cell_type": "code",
   "execution_count": 9,
   "metadata": {},
   "outputs": [],
   "source": [
    "mf = MIDIFile(1)     # only 1 track\n",
    "track = 0   # the only track"
   ]
  },
  {
   "cell_type": "code",
   "execution_count": 10,
   "metadata": {},
   "outputs": [],
   "source": [
    "time = 0    # start at the beginning\n",
    "mf.addTrackName(track, time, \"Sample Track\")\n",
    "mf.addTempo(track, time, 1200)"
   ]
  },
  {
   "cell_type": "code",
   "execution_count": 11,
   "metadata": {},
   "outputs": [],
   "source": [
    "channelmax = 15\n",
    "channel = [(0,0)]*88"
   ]
  },
  {
   "cell_type": "code",
   "execution_count": 12,
   "metadata": {},
   "outputs": [],
   "source": [
    "maxi=0"
   ]
  },
  {
   "cell_type": "code",
   "execution_count": 13,
   "metadata": {},
   "outputs": [],
   "source": [
    "for note in notes:\n",
    "    # if note['end']-note['start']+1 > maxi:\n",
    "    #     maxi = note['end']-note['start']+1\n",
    "    #mf.addNote(track,channel[note['note']-1],note['note'], note['start'], note['end']-note['start']+1,100)\n",
    "    #if note['end']== note['start']:\n",
    "    #    continue\n",
    "    mf.addNote(track,1,note['note']+20, note['start'], note['end']-note['start']+1,50)\n",
    "    #print(note['end']-note['start']+1)"
   ]
  },
  {
   "cell_type": "code",
   "execution_count": 15,
   "metadata": {},
   "outputs": [],
   "source": [
    "with open(\"midifile/ori_ks_25Jan.mid\", 'wb') as outf:\n",
    "   mf.writeFile(outf)"
   ]
  },
  {
   "cell_type": "code",
   "execution_count": null,
   "metadata": {},
   "outputs": [],
   "source": [
    "print(maxi)"
   ]
  }
 ],
 "metadata": {
  "kernelspec": {
   "display_name": "Python 3.8.15 ('base')",
   "language": "python",
   "name": "python3"
  },
  "language_info": {
   "codemirror_mode": {
    "name": "ipython",
    "version": 3
   },
   "file_extension": ".py",
   "mimetype": "text/x-python",
   "name": "python",
   "nbconvert_exporter": "python",
   "pygments_lexer": "ipython3",
   "version": "3.8.15"
  },
  "orig_nbformat": 4,
  "vscode": {
   "interpreter": {
    "hash": "e4ba2c2835bac95b056450fe4ad657800f897c097f78b31e6de995f2a103de5f"
   }
  }
 },
 "nbformat": 4,
 "nbformat_minor": 2
}
