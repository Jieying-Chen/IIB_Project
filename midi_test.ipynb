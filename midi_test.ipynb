{
 "cells": [
  {
   "cell_type": "code",
   "execution_count": null,
   "metadata": {},
   "outputs": [],
   "source": [
    "import numpy as np\n",
    "import scipy.io\n",
    "from midiutil import MIDIFile"
   ]
  },
  {
   "cell_type": "code",
   "execution_count": null,
   "metadata": {},
   "outputs": [],
   "source": [
    "key_time = 50e-3*0.5\n",
    "Fs = 48000"
   ]
  },
  {
   "cell_type": "code",
   "execution_count": null,
   "metadata": {},
   "outputs": [],
   "source": [
    "keys = scipy.io.loadmat('MATLAB_data/31Jan_jc.mat')['key']\n",
    "notes_list = scipy.io.loadmat('notes_88.mat')['notes']\n",
    "freq_list = scipy.io.loadmat('freq_480.mat')['f_cropped']\n",
    "#freq_list = scipy.io.loadmat('freq_441.mat')['f_cropped']\n",
    "notes_list = notes_list.reshape(np.size(notes_list))\n",
    "freq_list = freq_list.reshape(np.size(freq_list))"
   ]
  },
  {
   "cell_type": "code",
   "execution_count": null,
   "metadata": {},
   "outputs": [],
   "source": [
    "print(np.shape(notes_list))\n",
    "print(np.shape(freq_list))\n",
    "print(np.shape(keys))\n"
   ]
  },
  {
   "cell_type": "code",
   "execution_count": null,
   "metadata": {},
   "outputs": [],
   "source": [
    "def get_intensity(cur_key,cur_freq,wave_freq):\n",
    "    if cur_key == 1:\n",
    "        sigma = notes_list[1]-notes_list[0]\n",
    "    else:\n",
    "        sigma = notes_list[cur_key-1]-notes_list[cur_key-2]\n",
    "    sigma = sigma/2\n",
    "    intensity = np.exp(-0.5 *((cur_freq-wave_freq)/sigma)**2)\n",
    "    #print('cur', cur_freq,'wave',wave_freq)\n",
    "    return intensity"
   ]
  },
  {
   "cell_type": "code",
   "execution_count": null,
   "metadata": {},
   "outputs": [],
   "source": [
    "def picknotes(cur_key,cur_freq):\n",
    "    j = 0\n",
    "    while j < len(cur_key):\n",
    "        if cur_key[j] != 0:\n",
    "            \n",
    "            d = {}\n",
    "            d['note'] = cur_key[j]\n",
    "            d['start'] = j\n",
    "            while cur_key[j] != 0 and j < len(cur_key)-1:\n",
    "                j += 1\n",
    "            d['end'] = j - 1\n",
    "            intensity = get_intensity(cur_key[j-1],cur_freq,notes_list[cur_key[j-1]-1])\n",
    "            d['intensity'] = intensity\n",
    "            notes.append(d)\n",
    "        j += 1\n",
    "# picknotes(keys[500])     \n",
    "# print(notes)      \n"
   ]
  },
  {
   "cell_type": "code",
   "execution_count": null,
   "metadata": {},
   "outputs": [],
   "source": [
    "notes = []\n",
    "for i in range(np.shape(keys)[0]):\n",
    "    cur_key = keys[i]\n",
    "    cur_freq = freq_list[i]\n",
    "    picknotes(cur_key,cur_freq)\n",
    "    \n"
   ]
  },
  {
   "cell_type": "code",
   "execution_count": null,
   "metadata": {},
   "outputs": [],
   "source": [
    "notes = sorted(notes, key = lambda notes: notes[\"start\"])\n",
    "notes = sorted(notes, key = lambda notes: -notes[\"note\"])"
   ]
  },
  {
   "cell_type": "code",
   "execution_count": null,
   "metadata": {},
   "outputs": [],
   "source": [
    "print(notes)"
   ]
  },
  {
   "cell_type": "code",
   "execution_count": null,
   "metadata": {},
   "outputs": [],
   "source": [
    "mf = MIDIFile(1)     # only 1 track\n",
    "track = 0   # the only track\n",
    "time = 0    # start at the beginning\n",
    "mf.addTrackName(track, time, \"Sample Track\")\n",
    "mf.addTempo(track, time, 1200)"
   ]
  },
  {
   "cell_type": "code",
   "execution_count": null,
   "metadata": {},
   "outputs": [],
   "source": [
    "for note in notes:\n",
    "    mf.addNote(track,1,note['note']+20, note['start'], note['end']-note['start']+1,100)\n"
   ]
  },
  {
   "cell_type": "code",
   "execution_count": null,
   "metadata": {},
   "outputs": [],
   "source": [
    "#duration = [[1e9,0]]*88\n",
    "def merge(notes):\n",
    "    duration = [0]*88 #[start, end]\n",
    "    checker = [0]*88\n",
    "    for note in notes:\n",
    "        if checker[note['note']-1] == 0:\n",
    "            checker[note['note']-1] = 1\n",
    "            duration[note['note']-1]=[]\n",
    "            duration[note['note']-1].append([note['start'], note['end']])\n",
    "        else:\n",
    "            connected = False\n",
    "            current_note_list = duration[note['note']-1]\n",
    "            #print(current_note_list)\n",
    "            for num, current_note in enumerate(current_note_list):\n",
    "                if (current_note[1]+1) >= note['start'] and current_note[0] <= note['end']:\n",
    "                    connected = True\n",
    "                    current_note[0] = min(note['start'],current_note[0])\n",
    "\n",
    "\n",
    "                    if note['end'] > current_note[1]:\n",
    "                        \n",
    "                        i = num + 1\n",
    "                        while i < len(current_note_list) and note['end'] > current_note_list[i][1]:\n",
    "                            i += 1\n",
    "                        current_note[1] = max(note['end'],current_note_list[i-1][1])\n",
    "                        for j in range(num+1,i):\n",
    "                            del current_note_list[j]\n",
    "                                \n",
    "                    break\n",
    "            if not connected:\n",
    "                duration[note['note']-1].append([note['start'], note['end']])\n",
    "                duration[note['note']-1].sort()\n",
    "    return duration\n",
    "        #1.check if connect with existed\n",
    "        #2.check if multiple existed can be combined\n",
    "        #3.if not, add new (in time order!!)\n"
   ]
  },
  {
   "cell_type": "code",
   "execution_count": null,
   "metadata": {},
   "outputs": [],
   "source": [
    "def convert(duration):\n",
    "    notes = []\n",
    "    for key, l in enumerate(duration):\n",
    "        if l != 0:\n",
    "            for item in l:\n",
    "                #print(item[0])\n",
    "                notes.append({'note': key+1, 'start': item[0], 'end': item[1]})\n",
    "    return notes"
   ]
  },
  {
   "cell_type": "code",
   "execution_count": null,
   "metadata": {},
   "outputs": [],
   "source": [
    "d = merge(notes)\n",
    "new_notes=convert(d)"
   ]
  },
  {
   "cell_type": "code",
   "execution_count": null,
   "metadata": {},
   "outputs": [],
   "source": [
    "for note in new_notes:\n",
    "    # if note['end']-note['start']+1 > maxi:\n",
    "    #     maxi = note['end']-note['start']+1\n",
    "    #mf.addNote(track,channel[note['note']-1],note['note'], note['start'], note['end']-note['start']+1,100)\n",
    "    #if note['end']== note['start']:\n",
    "    #    continue\n",
    "    mf.addNote(track,0,note['note']+20, note['start'], note['end']-note['start']+1,100)\n",
    "    #print(note['end']-note['start']+1)"
   ]
  },
  {
   "cell_type": "code",
   "execution_count": null,
   "metadata": {},
   "outputs": [],
   "source": [
    "with open(\"midifile/31Jan_jc_int.mid\", 'wb') as outf:\n",
    "   mf.writeFile(outf)"
   ]
  },
  {
   "cell_type": "code",
   "execution_count": null,
   "metadata": {},
   "outputs": [],
   "source": [
    "print(len(new_notes))"
   ]
  },
  {
   "cell_type": "code",
   "execution_count": null,
   "metadata": {},
   "outputs": [],
   "source": [
    "for note in notes:\n",
    "    if note['note']==76:\n",
    "        print(note)"
   ]
  },
  {
   "cell_type": "code",
   "execution_count": null,
   "metadata": {},
   "outputs": [],
   "source": [
    "for note in new_notes:\n",
    "    if note['note']==76:\n",
    "        print(note)"
   ]
  }
 ],
 "metadata": {
  "kernelspec": {
   "display_name": "Python 3.8.15 ('base')",
   "language": "python",
   "name": "python3"
  },
  "language_info": {
   "codemirror_mode": {
    "name": "ipython",
    "version": 3
   },
   "file_extension": ".py",
   "mimetype": "text/x-python",
   "name": "python",
   "nbconvert_exporter": "python",
   "pygments_lexer": "ipython3",
   "version": "3.8.15"
  },
  "orig_nbformat": 4,
  "vscode": {
   "interpreter": {
    "hash": "e4ba2c2835bac95b056450fe4ad657800f897c097f78b31e6de995f2a103de5f"
   }
  }
 },
 "nbformat": 4,
 "nbformat_minor": 2
}
