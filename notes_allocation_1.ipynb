{
 "cells": [
  {
   "cell_type": "code",
   "execution_count": 1,
   "metadata": {},
   "outputs": [],
   "source": [
    "import numpy as np\n",
    "import scipy.io\n",
    "import matplotlib.pyplot as plt\n",
    "from midiutil import MIDIFile\n",
    "\n",
    "import random"
   ]
  },
  {
   "cell_type": "code",
   "execution_count": null,
   "metadata": {},
   "outputs": [],
   "source": [
    "## Constraints\n",
    "# 1. # of pianists, 2 hands, 5 fingers\n",
    "# 2. time apart\n",
    "# 3. spatial apart (in each hand cannot exceed one octave)\n",
    "# 4. within one octave > same intensity > notes start at the same time > last for same period > not adjacent"
   ]
  },
  {
   "cell_type": "code",
   "execution_count": 2,
   "metadata": {},
   "outputs": [],
   "source": [
    "## Parameters\n",
    "GroupNum = 21 * 2 #21 pianists, 2 hands each\n",
    "max_note_per_group = 5 #5 fingers\n",
    "\n",
    "#min_pitch_gap = not set\n",
    "win_length = 50e-3\n",
    "max_time_gap = 0.3\n",
    "max_frame_gap = int(round(max_time_gap / win_length))"
   ]
  },
  {
   "cell_type": "code",
   "execution_count": 3,
   "metadata": {},
   "outputs": [],
   "source": [
    "key_time = 50e-3*0.5\n",
    "Fs = 48000\n",
    "\n",
    "#keys = scipy.io.loadmat('MATLAB_data/31Jan_jc.mat')['key']\n",
    "keys = scipy.io.loadmat('MATLAB_data/doing_tdy_88.mat')['key']\n",
    "notes_list = scipy.io.loadmat('notes_88.mat')['notes']\n",
    "freq_list = scipy.io.loadmat('freq_480.mat')['f_cropped']\n",
    "#freq_list = scipy.io.loadmat('freq_441.mat')['f_cropped']\n",
    "notes_list = notes_list.reshape(np.size(notes_list))\n",
    "freq_list = freq_list.reshape(np.size(freq_list))\n",
    "\n",
    "def get_intensity(cur_key,cur_freq,wave_freq):\n",
    "    if cur_key == 1:\n",
    "        sigma = notes_list[1]-notes_list[0]\n",
    "    else:\n",
    "        sigma = notes_list[cur_key-1]-notes_list[cur_key-2]\n",
    "    sigma = sigma/2\n",
    "    intensity = np.exp(-0.5 *((cur_freq-wave_freq)/sigma)**2)\n",
    "    #print('cur', cur_freq,'wave',wave_freq)\n",
    "    return intensity\n",
    "\n",
    "def picknotes(cur_key,cur_freq):\n",
    "    j = 0\n",
    "    while j < len(cur_key):\n",
    "        if cur_key[j] != 0:\n",
    "            \n",
    "            d = {}\n",
    "            d['note'] = cur_key[j]\n",
    "            d['start'] = j\n",
    "            while cur_key[j] != 0 and j < len(cur_key)-1:\n",
    "                j += 1\n",
    "            d['end'] = j - 1\n",
    "            intensity = get_intensity(cur_key[j-1],cur_freq,notes_list[cur_key[j-1]-1])\n",
    "            d['intensity'] = intensity\n",
    "            notes.append(d)\n",
    "        j += 1\n",
    "\n",
    "notes = []\n",
    "for i in range(np.shape(keys)[0]):\n",
    "    cur_key = keys[i]\n",
    "    cur_freq = freq_list[i]\n",
    "    picknotes(cur_key,cur_freq)\n",
    "\n",
    "notes = sorted(notes, key = lambda notes: notes[\"start\"])\n",
    "\n",
    "def remove_repetitive(notes):\n",
    "    note_set = [0]*88\n",
    "    i = 0\n",
    "    while i < len(notes):\n",
    "        note = notes[i]\n",
    "        if note_set[note['note']-1] == 0:\n",
    "            note_set[note['note']-1] = [(note['start'],note['end'])]\n",
    "        else:\n",
    "            if (note['start'],note['end']) in note_set[note['note']-1]:\n",
    "                del notes[i]\n",
    "                i -= 1\n",
    "            else:\n",
    "                note_set[note['note']-1].append((note['start'],note['end']))\n",
    "        i += 1\n",
    "    return notes\n",
    "\n",
    "new_notes = remove_repetitive(notes)"
   ]
  },
  {
   "cell_type": "code",
   "execution_count": null,
   "metadata": {},
   "outputs": [],
   "source": [
    "#Separate notes into C major and Gb major\n",
    "def separate_majors(notes):\n",
    "    C_major = [1,3,4,6,8,9,11]\n",
    "    Gb_major = [0,2,3,5,7,9,10]\n",
    "\n",
    "    C_notes = []\n",
    "    Gb_notes = []\n",
    "\n",
    "    for i,note in enumerate(notes):\n",
    "        seq = note['note'] % 12\n",
    "        if (seq in C_major) and (seq not in Gb_major):\n",
    "            C_notes.append(notes.pop(i))\n",
    "        elif (seq in Gb_major) and (seq not in C_major):\n",
    "            Gb_notes.append(notes.pop(i))\n",
    "\n",
    "    for i,note in enumerate(notes):\n",
    "        if i % 2 == 0:\n",
    "            C_notes.append(notes.pop(i))\n",
    "        else:\n",
    "            Gb_notes.append(notes.pop(i))\n",
    "    return [C_notes, Gb_notes]"
   ]
  },
  {
   "cell_type": "code",
   "execution_count": null,
   "metadata": {},
   "outputs": [],
   "source": [
    "def group_notes(notes_list):\n",
    "    ### change [{'note':pitch_num, 'start':start_time,'end':end_time}] to \n",
    "    return"
   ]
  },
  {
   "cell_type": "code",
   "execution_count": 4,
   "metadata": {},
   "outputs": [],
   "source": [
    "word_gap = 15\n",
    "def separate_word(notes):\n",
    "    word_list = []\n",
    "    ptr = 0\n",
    "    for i in range(len(notes)-1):\n",
    "        if notes[i+1]['start'] - notes[i]['end'] >= word_gap:\n",
    "            word_list.append(notes[ptr:i+1])\n",
    "            ptr = i + 1\n",
    "        if i == len(notes) - 2:\n",
    "            word_list.append(notes[ptr:])\n",
    "    return word_list\n",
    "    "
   ]
  },
  {
   "cell_type": "code",
   "execution_count": 5,
   "metadata": {},
   "outputs": [],
   "source": [
    "separate = False\n",
    "\n"
   ]
  },
  {
   "cell_type": "code",
   "execution_count": 6,
   "metadata": {},
   "outputs": [],
   "source": [
    "def print_list(l):\n",
    "    for i in l:\n",
    "        print(i)"
   ]
  },
  {
   "cell_type": "code",
   "execution_count": 7,
   "metadata": {},
   "outputs": [],
   "source": [
    "def add_note(pitch_group,note,current_group,notes_group):\n",
    "    pitch_group.append(note['note'])\n",
    "    current_group.append(note)\n",
    "    notes_group.remove(note)\n",
    "    return pitch_group,current_group,notes_group"
   ]
  },
  {
   "cell_type": "code",
   "execution_count": 19,
   "metadata": {},
   "outputs": [],
   "source": [
    "def allocation(notes_group):\n",
    "    allocated_notes=[]\n",
    "    group = 1\n",
    "    overlapped = False #true if last group was left hand, current group is right hand, they should not overlap\n",
    "    while notes_group != [] and group <= GroupNum:\n",
    "        current_group = []\n",
    "        if not overlapped:\n",
    "            pitch_group = [notes_group[0]['note']]\n",
    "            current_group.append(notes_group.pop(0))\n",
    "        else:\n",
    "            for i in range(len(notes_group)):\n",
    "                if notes_group[i]['note'] > (high + 1):\n",
    "                    pitch_group = [notes_group[i]['note']]\n",
    "                    current_group.append(notes_group.pop(i))\n",
    "                    break\n",
    "        for current_allocated_note in current_group:\n",
    "            #print('current_group',current_group)\n",
    "            #print(pitch_group)\n",
    "            candidate = []\n",
    "            # counter = 0\n",
    "            for note in notes_group:\n",
    "                if (note['note'] not in pitch_group) and (note['note']-min(pitch_group) <= 12):\n",
    "                    #print(note['note'])\n",
    "                    if overlapped and note['note'] < (high + 1):\n",
    "                        break\n",
    "                    #print('in')\n",
    "                    if note['start'] == current_allocated_note['start']:\n",
    "                        if note['end'] == current_allocated_note['end']:\n",
    "                            candidate.append([1,note])\n",
    "                            # counter += 1\n",
    "                        else:\n",
    "                            candidate.append([2,note])\n",
    "                            # counter += 1\n",
    "                    elif note['end'] == current_allocated_note['end']:\n",
    "                        candidate.append([3,note])\n",
    "                    #     counter += 1\n",
    "                    # elif counter == 4:\n",
    "                    #     continue\n",
    "                    else:    \n",
    "                        candidate.append([4,note])\n",
    "            #print_list(candidate)\n",
    "        candidate.sort(key = lambda x: x[0])\n",
    "        #print('candidate')\n",
    "        #print_list(candidate)\n",
    "        counter = 0\n",
    "        while len(current_group) < 5 and counter < len(candidate):\n",
    "            if candidate[counter][1]['note'] not in pitch_group:\n",
    "                pitch_group,current_group,notes_group = add_note(pitch_group,candidate[counter][1],current_group,notes_group)\n",
    "            counter += 1\n",
    "                                \n",
    "        #print(current_group)\n",
    "\n",
    "        if not overlapped:\n",
    "            high = 0\n",
    "            for note in current_group:\n",
    "                high = max(high,note['note'])\n",
    "\n",
    "        allocated_notes.append(current_group)\n",
    "\n",
    "        overlapped = not overlapped\n",
    "        group += 1 #finish allocate notes to one group, update\n",
    "    \n",
    "    if notes_group != []:\n",
    "        print('Failed to allocate :(')\n",
    "        print(len(notes_group))\n",
    "        return False\n",
    "    else:\n",
    "        return allocated_notes"
   ]
  },
  {
   "cell_type": "code",
   "execution_count": null,
   "metadata": {},
   "outputs": [],
   "source": [
    "if separate:\n",
    "    ### TOBE FINISHED\n",
    "    notes_groups = separate_majors(notes)\n",
    "    result = []\n",
    "    # for group in notes_groups:\n",
    "    #     word_groups = separate_word(group)\n",
    "    #     r = allocation(group)\n",
    "    #     if not r:\n",
    "    #         result.append(r)\n",
    "    #     else:\n",
    "    #         break\n",
    "else:\n",
    "    new_notes = sorted(new_notes, key = lambda notes: notes[\"start\"])\n",
    "    word_groups = separate_word(new_notes)\n",
    "    #result = allocation(notes)"
   ]
  },
  {
   "cell_type": "code",
   "execution_count": null,
   "metadata": {},
   "outputs": [],
   "source": [
    "adjacent_note_gap = 0"
   ]
  },
  {
   "cell_type": "code",
   "execution_count": 9,
   "metadata": {},
   "outputs": [],
   "source": [
    "## visualization tool\n",
    "def plot_notes(note_list):\n",
    "    time =[]\n",
    "    pitch = []\n",
    "    for note in note_list:\n",
    "        time.append(note['start'])\n",
    "        pitch.append(note['note'])\n",
    "    plt.scatter(time,pitch,s=1)"
   ]
  },
  {
   "cell_type": "code",
   "execution_count": 10,
   "metadata": {},
   "outputs": [
    {
     "data": {
      "image/png": "[encoded data removed]",
      "text/plain": [
       "<Figure size 640x480 with 1 Axes>"
      ]
     },
     "metadata": {},
     "output_type": "display_data"
    },
    {
     "data": {
      "image/png": "[encoded data removed]",
      "text/plain": [
       "<Figure size 640x480 with 1 Axes>"
      ]
     },
     "metadata": {},
     "output_type": "display_data"
    }
   ],
   "source": [
    "plot_notes(new_notes)\n",
    "plt.show()\n",
    "word_groups = separate_word(new_notes)\n",
    "for g in word_groups:\n",
    "    plot_notes(g)\n",
    "plt.show()"
   ]
  },
  {
   "cell_type": "code",
   "execution_count": 11,
   "metadata": {},
   "outputs": [
    {
     "name": "stdout",
     "output_type": "stream",
     "text": [
      "449\n",
      "260\n",
      "78\n",
      "158\n",
      "154\n"
     ]
    }
   ],
   "source": [
    "for item in word_groups:\n",
    "    print(len(item))"
   ]
  },
  {
   "cell_type": "code",
   "execution_count": null,
   "metadata": {},
   "outputs": [],
   "source": [
    "for node in word_groups[0]:\n",
    "    print(node)\n",
    "print(len(word_groups[0]))"
   ]
  },
  {
   "cell_type": "code",
   "execution_count": 23,
   "metadata": {},
   "outputs": [
    {
     "name": "stderr",
     "output_type": "stream",
     "text": [
      "C:\\Users\\96326\\AppData\\Local\\Temp\\ipykernel_21768\\3771347501.py:22: RuntimeWarning: overflow encountered in ubyte_scalars\n",
      "  if (note['note'] not in pitch_group) and (note['note']-min(pitch_group) <= 12):\n"
     ]
    }
   ],
   "source": [
    "word_groups = separate_word(new_notes)\n",
    "test_group = word_groups[2].copy()\n",
    "result = False\n",
    "while not result:\n",
    "    result = allocation(test_group)\n",
    "    test_group = word_groups[2].copy()\n",
    "    random.shuffle(test_group)"
   ]
  },
  {
   "cell_type": "code",
   "execution_count": 50,
   "metadata": {},
   "outputs": [
    {
     "name": "stdout",
     "output_type": "stream",
     "text": [
      "2\n",
      "[[{'note': 33, 'start': 118, 'end': 118, 'intensity': 0.9337658603499376}, {'note': 39, 'start': 118, 'end': 118, 'intensity': 0.8067382219820456}, {'note': 34, 'start': 118, 'end': 119, 'intensity': 0.6292243666288175}, {'note': 35, 'start': 118, 'end': 121, 'intensity': 0.7678684795583712}, {'note': 36, 'start': 118, 'end': 126, 'intensity': 0.82167013228532}], [{'note': 47, 'start': 118, 'end': 118, 'intensity': 0.9973891162765615}, {'note': 48, 'start': 118, 'end': 120, 'intensity': 0.7070269205403353}, {'note': 49, 'start': 118, 'end': 123, 'intensity': 0.7013799383805369}, {'note': 50, 'start': 121, 'end': 126, 'intensity': 0.6305401509327592}, {'note': 56, 'start': 121, 'end': 121, 'intensity': 0.8310590717712135}]]\n",
      "success\n",
      "3\n",
      "Failed to allocate :(\n",
      "39\n",
      "Failed to allocate :(\n",
      "1\n",
      "Failed to allocate :(\n",
      "9\n",
      "Failed to allocate :(\n",
      "10\n",
      "Failed to allocate :(\n",
      "7\n",
      "Failed to allocate :(\n",
      "6\n",
      "[[{'note': 33, 'start': 118, 'end': 118, 'intensity': 0.9337658603499376}, {'note': 39, 'start': 118, 'end': 118, 'intensity': 0.8067382219820456}, {'note': 34, 'start': 118, 'end': 119, 'intensity': 0.6292243666288175}, {'note': 35, 'start': 118, 'end': 121, 'intensity': 0.7678684795583712}, {'note': 36, 'start': 118, 'end': 126, 'intensity': 0.82167013228532}, {'note': 36, 'start': 174, 'end': 178, 'intensity': 0.82167013228532}, {'note': 37, 'start': 174, 'end': 178, 'intensity': 0.8106775193961244}, {'note': 45, 'start': 176, 'end': 178, 'intensity': 0.6908760446160362}, {'note': 38, 'start': 173, 'end': 178, 'intensity': 0.7394760143261037}, {'note': 44, 'start': 176, 'end': 178, 'intensity': 0.6862225671838764}], [{'note': 47, 'start': 118, 'end': 118, 'intensity': 0.9973891162765615}, {'note': 48, 'start': 118, 'end': 120, 'intensity': 0.7070269205403353}, {'note': 49, 'start': 118, 'end': 123, 'intensity': 0.7013799383805369}, {'note': 50, 'start': 121, 'end': 126, 'intensity': 0.6305401509327592}, {'note': 56, 'start': 121, 'end': 121, 'intensity': 0.8310590717712135}, {'note': 74, 'start': 166, 'end': 167, 'intensity': 0.7362885436641815}, {'note': 77, 'start': 166, 'end': 167, 'intensity': 0.699020852180953}, {'note': 75, 'start': 166, 'end': 168, 'intensity': 0.6055008811396325}, {'note': 76, 'start': 166, 'end': 166, 'intensity': 0.6451004386950581}, {'note': 83, 'start': 177, 'end': 177, 'intensity': 0.606810238333903}]]\n",
      "success\n",
      "4\n",
      "Failed to allocate :(\n",
      "5\n",
      "Failed to allocate :(\n",
      "28\n",
      "Failed to allocate :(\n",
      "9\n",
      "[[{'note': 33, 'start': 118, 'end': 118, 'intensity': 0.9337658603499376}, {'note': 39, 'start': 118, 'end': 118, 'intensity': 0.8067382219820456}, {'note': 34, 'start': 118, 'end': 119, 'intensity': 0.6292243666288175}, {'note': 35, 'start': 118, 'end': 121, 'intensity': 0.7678684795583712}, {'note': 36, 'start': 118, 'end': 126, 'intensity': 0.82167013228532}, {'note': 36, 'start': 174, 'end': 178, 'intensity': 0.82167013228532}, {'note': 37, 'start': 174, 'end': 178, 'intensity': 0.8106775193961244}, {'note': 45, 'start': 176, 'end': 178, 'intensity': 0.6908760446160362}, {'note': 38, 'start': 173, 'end': 178, 'intensity': 0.7394760143261037}, {'note': 44, 'start': 176, 'end': 178, 'intensity': 0.6862225671838764}, {'note': 32, 'start': 215, 'end': 215, 'intensity': 0.6862225671838764}, {'note': 33, 'start': 215, 'end': 215, 'intensity': 0.6908760446160362}, {'note': 42, 'start': 211, 'end': 211, 'intensity': 0.619504134234769}, {'note': 36, 'start': 211, 'end': 213, 'intensity': 0.82167013228532}, {'note': 35, 'start': 216, 'end': 218, 'intensity': 0.7678684795583712}], [{'note': 47, 'start': 118, 'end': 118, 'intensity': 0.9973891162765615}, {'note': 48, 'start': 118, 'end': 120, 'intensity': 0.7070269205403353}, {'note': 49, 'start': 118, 'end': 123, 'intensity': 0.7013799383805369}, {'note': 50, 'start': 121, 'end': 126, 'intensity': 0.6305401509327592}, {'note': 56, 'start': 121, 'end': 121, 'intensity': 0.8310590717712135}, {'note': 74, 'start': 166, 'end': 167, 'intensity': 0.7362885436641815}, {'note': 77, 'start': 166, 'end': 167, 'intensity': 0.699020852180953}, {'note': 75, 'start': 166, 'end': 168, 'intensity': 0.6055008811396325}, {'note': 76, 'start': 166, 'end': 166, 'intensity': 0.6451004386950581}, {'note': 83, 'start': 177, 'end': 177, 'intensity': 0.606810238333903}, {'note': 78, 'start': 208, 'end': 208, 'intensity': 0.8922488660622355}, {'note': 79, 'start': 208, 'end': 208, 'intensity': 0.9848230867726063}, {'note': 80, 'start': 220, 'end': 220, 'intensity': 0.7244317229962931}, {'note': 83, 'start': 209, 'end': 210, 'intensity': 0.89059644161312}, {'note': 82, 'start': 209, 'end': 210, 'intensity': 0.8823747034775925}]]\n",
      "success\n"
     ]
    },
    {
     "name": "stderr",
     "output_type": "stream",
     "text": [
      "C:\\Users\\96326\\AppData\\Local\\Temp\\ipykernel_21768\\3771347501.py:22: RuntimeWarning: overflow encountered in ubyte_scalars\n",
      "  if (note['note'] not in pitch_group) and (note['note']-min(pitch_group) <= 12):\n"
     ]
    }
   ],
   "source": [
    "word_groups = separate_word(new_notes)\n",
    "final_allocation = [[],[]]\n",
    "for i in range(2,5):\n",
    "    print(i)\n",
    "    current_allocate_group = word_groups[i].copy()\n",
    "    result = False\n",
    "    while not result:\n",
    "        result = allocation(current_allocate_group)\n",
    "        current_allocate_group = word_groups[i].copy()\n",
    "        random.shuffle(current_allocate_group)\n",
    "    \n",
    "    final_allocation[0].extend(result[0])\n",
    "    final_allocation[1].extend(result[1])\n",
    "    print(final_allocation)\n",
    "    print('success')\n",
    "\n",
    "    "
   ]
  },
  {
   "cell_type": "code",
   "execution_count": 34,
   "metadata": {},
   "outputs": [
    {
     "name": "stdout",
     "output_type": "stream",
     "text": [
      "[[{'note': 33, 'start': 118, 'end': 118, 'intensity': 0.9337658603499376}, {'note': 39, 'start': 118, 'end': 118, 'intensity': 0.8067382219820456}, {'note': 34, 'start': 118, 'end': 119, 'intensity': 0.6292243666288175}, {'note': 35, 'start': 118, 'end': 121, 'intensity': 0.7678684795583712}, {'note': 36, 'start': 118, 'end': 126, 'intensity': 0.82167013228532}, {'note': 44, 'start': 176, 'end': 178, 'intensity': 0.6862225671838764}, {'note': 45, 'start': 176, 'end': 178, 'intensity': 0.6908760446160362}, {'note': 52, 'start': 173, 'end': 173, 'intensity': 0.8094166400593618}, {'note': 46, 'start': 165, 'end': 165, 'intensity': 0.6292243666288175}, {'note': 53, 'start': 166, 'end': 173, 'intensity': 0.827769730861526}, {'note': 34, 'start': 222, 'end': 223, 'intensity': 0.9139161392383283}, {'note': 37, 'start': 222, 'end': 223, 'intensity': 0.8106775193961244}, {'note': 36, 'start': 222, 'end': 223, 'intensity': 0.82167013228532}, {'note': 35, 'start': 222, 'end': 223, 'intensity': 0.7678684795583712}, {'note': 45, 'start': 217, 'end': 218, 'intensity': 0.9921775249698953}], [{'note': 47, 'start': 118, 'end': 118, 'intensity': 0.9973891162765615}, {'note': 48, 'start': 118, 'end': 120, 'intensity': 0.7070269205403353}, {'note': 49, 'start': 118, 'end': 123, 'intensity': 0.7013799383805369}, {'note': 50, 'start': 121, 'end': 126, 'intensity': 0.6305401509327592}, {'note': 56, 'start': 121, 'end': 121, 'intensity': 0.8310590717712135}, {'note': 77, 'start': 166, 'end': 167, 'intensity': 0.699020852180953}, {'note': 83, 'start': 178, 'end': 179, 'intensity': 0.7525180870308815}, {'note': 82, 'start': 177, 'end': 178, 'intensity': 0.9286728615180077}, {'note': 81, 'start': 178, 'end': 178, 'intensity': 0.7123569240231797}, {'note': 78, 'start': 218, 'end': 222, 'intensity': 0.9773322307453254}, {'note': 79, 'start': 218, 'end': 222, 'intensity': 0.6068171573270524}, {'note': 80, 'start': 220, 'end': 221, 'intensity': 0.6080210158687859}, {'note': 82, 'start': 220, 'end': 221, 'intensity': 0.7489826933591309}, {'note': 83, 'start': 210, 'end': 210, 'intensity': 0.8786543241730925}]]\n"
     ]
    }
   ],
   "source": [
    "print(final_allocation)"
   ]
  },
  {
   "cell_type": "code",
   "execution_count": 45,
   "metadata": {},
   "outputs": [],
   "source": [
    "mf = MIDIFile(2)     # only 1 track\n",
    "#track = 0   # the only track\n",
    "time = 0    # start at the beginning\n",
    "mf.addTrackName(0, time, \"Right\")\n",
    "mf.addTrackName(1, time, \"Left\")\n",
    "mf.addTempo(0, time, 1200)\n",
    "mf.addTempo(1, time, 1200)"
   ]
  },
  {
   "cell_type": "code",
   "execution_count": 46,
   "metadata": {},
   "outputs": [],
   "source": [
    "for i in range(2):    \n",
    "    for note in final_allocation[1-i]:\n",
    "        mf.addNote(i,i,note['note']+20, note['start'], note['end']-note['start']+1,100)"
   ]
  },
  {
   "cell_type": "code",
   "execution_count": 47,
   "metadata": {},
   "outputs": [],
   "source": [
    "with open(\"midifile/allocation_test_2.mid\", 'wb') as outf:\n",
    "   mf.writeFile(outf)"
   ]
  },
  {
   "cell_type": "code",
   "execution_count": 49,
   "metadata": {},
   "outputs": [
    {
     "name": "stdout",
     "output_type": "stream",
     "text": [
      "[{'note': 40, 'start': 211, 'end': 211, 'intensity': 0.6161451804438065}, {'note': 41, 'start': 211, 'end': 211, 'intensity': 0.7439560185650197}, {'note': 42, 'start': 211, 'end': 211, 'intensity': 0.619504134234769}, {'note': 43, 'start': 211, 'end': 212, 'intensity': 0.6068171573270504}, {'note': 44, 'start': 211, 'end': 212, 'intensity': 0.6862225671838764}]\n",
      "[{'note': 78, 'start': 218, 'end': 222, 'intensity': 0.9773322307453254}, {'note': 79, 'start': 218, 'end': 222, 'intensity': 0.6068171573270524}, {'note': 83, 'start': 209, 'end': 210, 'intensity': 0.89059644161312}, {'note': 82, 'start': 210, 'end': 210, 'intensity': 0.8123317807840695}, {'note': 80, 'start': 220, 'end': 220, 'intensity': 0.7244317229962931}]\n",
      "[{'note': 45, 'start': 212, 'end': 212, 'intensity': 0.6908760446160362}, {'note': 47, 'start': 212, 'end': 212, 'intensity': 0.6398581138821163}, {'note': 46, 'start': 212, 'end': 212, 'intensity': 0.6292243666288175}, {'note': 57, 'start': 218, 'end': 218, 'intensity': 0.9337658603499376}, {'note': 53, 'start': 220, 'end': 220, 'intensity': 0.7413976641231516}]\n",
      "[{'note': 77, 'start': 219, 'end': 220, 'intensity': 0.9968552904951229}, {'note': 78, 'start': 219, 'end': 220, 'intensity': 0.6195041342347691}, {'note': 79, 'start': 219, 'end': 222, 'intensity': 0.7099455950486991}, {'note': 82, 'start': 220, 'end': 220, 'intensity': 0.6117103807600038}, {'note': 81, 'start': 220, 'end': 220, 'intensity': 0.5986158965808213}]\n",
      "[{'note': 28, 'start': 217, 'end': 217, 'intensity': 0.949048103645974}, {'note': 29, 'start': 217, 'end': 217, 'intensity': 0.8993647195975836}, {'note': 36, 'start': 217, 'end': 217, 'intensity': 0.9807934930982246}, {'note': 37, 'start': 217, 'end': 217, 'intensity': 0.8106775193961244}, {'note': 31, 'start': 217, 'end': 223, 'intensity': 0.9038009034581581}]\n",
      "[{'note': 43, 'start': 218, 'end': 220, 'intensity': 0.7690820017507791}, {'note': 51, 'start': 218, 'end': 218, 'intensity': 0.8067382219820456}, {'note': 55, 'start': 218, 'end': 219, 'intensity': 0.6521586940257783}, {'note': 54, 'start': 220, 'end': 220, 'intensity': 0.619504134234769}, {'note': 48, 'start': 217, 'end': 217, 'intensity': 0.7070269205403353}]\n",
      "[{'note': 29, 'start': 219, 'end': 222, 'intensity': 0.8993647195975836}, {'note': 40, 'start': 220, 'end': 222, 'intensity': 0.9468900491331496}, {'note': 30, 'start': 217, 'end': 222, 'intensity': 0.7895852353648082}, {'note': 31, 'start': 217, 'end': 222, 'intensity': 0.6068171573270504}, {'note': 34, 'start': 227, 'end': 227, 'intensity': 0.9139161392383283}]\n",
      "[{'note': 78, 'start': 209, 'end': 209, 'intensity': 0.7895852353648094}, {'note': 83, 'start': 209, 'end': 209, 'intensity': 0.9358869764718921}, {'note': 82, 'start': 209, 'end': 210, 'intensity': 0.8823747034775925}, {'note': 79, 'start': 210, 'end': 210, 'intensity': 0.6896314898921293}, {'note': 80, 'start': 220, 'end': 221, 'intensity': 0.6080210158687859}]\n",
      "[{'note': 28, 'start': 219, 'end': 221, 'intensity': 0.949048103645974}, {'note': 40, 'start': 221, 'end': 221, 'intensity': 0.6161451804438065}, {'note': 39, 'start': 221, 'end': 221, 'intensity': 0.8067382219820456}, {'note': 35, 'start': 211, 'end': 213, 'intensity': 0.7678684795583712}, {'note': 36, 'start': 216, 'end': 217, 'intensity': 0.82167013228532}]\n",
      "[{'note': 76, 'start': 220, 'end': 220, 'intensity': 0.6161451804438088}, {'note': 79, 'start': 220, 'end': 220, 'intensity': 0.9621031727335745}, {'note': 78, 'start': 220, 'end': 220, 'intensity': 0.6634925126040451}, {'note': 77, 'start': 220, 'end': 220, 'intensity': 0.6062111076052441}, {'note': 82, 'start': 220, 'end': 221, 'intensity': 0.7489826933591309}]\n",
      "[{'note': 28, 'start': 219, 'end': 222, 'intensity': 0.6203675534079811}, {'note': 29, 'start': 217, 'end': 222, 'intensity': 0.9878279845418128}, {'note': 33, 'start': 217, 'end': 220, 'intensity': 0.6908760446160362}, {'note': 34, 'start': 216, 'end': 218, 'intensity': 0.9992787539279061}, {'note': 35, 'start': 216, 'end': 217, 'intensity': 0.5952809114957551}]\n",
      "[{'note': 77, 'start': 210, 'end': 210, 'intensity': 0.8653956165033541}, {'note': 83, 'start': 210, 'end': 210, 'intensity': 0.8786543241730925}, {'note': 79, 'start': 220, 'end': 222, 'intensity': 0.8416364652434857}, {'note': 78, 'start': 219, 'end': 222, 'intensity': 0.9490646728418561}, {'note': 82, 'start': 221, 'end': 221, 'intensity': 0.7970064948423501}]\n",
      "[{'note': 28, 'start': 212, 'end': 212, 'intensity': 0.949048103645974}, {'note': 29, 'start': 212, 'end': 213, 'intensity': 0.8993647195975836}, {'note': 30, 'start': 212, 'end': 213, 'intensity': 0.7895852353648082}, {'note': 33, 'start': 225, 'end': 226, 'intensity': 0.9337658603499376}, {'note': 36, 'start': 222, 'end': 223, 'intensity': 0.82167013228532}]\n",
      "[{'note': 58, 'start': 219, 'end': 220, 'intensity': 0.9992787539279061}, {'note': 59, 'start': 219, 'end': 220, 'intensity': 0.6398581138821148}, {'note': 60, 'start': 219, 'end': 219, 'intensity': 0.6455040109700436}]\n",
      "[{'note': 44, 'start': 212, 'end': 212, 'intensity': 0.6378340917075723}, {'note': 55, 'start': 219, 'end': 219, 'intensity': 0.7690820017507768}, {'note': 47, 'start': 217, 'end': 217, 'intensity': 0.6398581138821163}, {'note': 52, 'start': 217, 'end': 217, 'intensity': 0.9861644196449784}, {'note': 45, 'start': 217, 'end': 219, 'intensity': 0.6908760446160362}]\n",
      "[{'note': 75, 'start': 218, 'end': 218, 'intensity': 0.96530339908511}, {'note': 78, 'start': 218, 'end': 218, 'intensity': 0.7231584031504859}, {'note': 79, 'start': 218, 'end': 218, 'intensity': 0.9038009034581588}, {'note': 77, 'start': 217, 'end': 217, 'intensity': 0.9148026782015749}]\n",
      "[{'note': 26, 'start': 220, 'end': 221, 'intensity': 0.9489195315797021}, {'note': 27, 'start': 220, 'end': 221, 'intensity': 0.6055008811396302}, {'note': 28, 'start': 220, 'end': 221, 'intensity': 0.6161451804438065}, {'note': 34, 'start': 225, 'end': 227, 'intensity': 0.6292243666288175}, {'note': 31, 'start': 226, 'end': 226, 'intensity': 0.8097044597472691}]\n",
      "[{'note': 79, 'start': 221, 'end': 221, 'intensity': 0.6521586940257743}]\n",
      "[{'note': 46, 'start': 217, 'end': 217, 'intensity': 0.6292243666288175}, {'note': 53, 'start': 217, 'end': 217, 'intensity': 0.6529035158028504}, {'note': 52, 'start': 217, 'end': 218, 'intensity': 0.6161451804438065}, {'note': 56, 'start': 217, 'end': 219, 'intensity': 0.996006196629141}, {'note': 51, 'start': 217, 'end': 218, 'intensity': 0.8902414126788736}]\n",
      "[{'note': 79, 'start': 220, 'end': 223, 'intensity': 0.889415734434391}]\n",
      "[{'note': 42, 'start': 219, 'end': 220, 'intensity': 0.7895852353648082}, {'note': 43, 'start': 219, 'end': 220, 'intensity': 0.6068171573270504}, {'note': 45, 'start': 217, 'end': 217, 'intensity': 0.8305646161582052}, {'note': 44, 'start': 217, 'end': 219, 'intensity': 0.6862225671838764}]\n",
      "[{'note': 56, 'start': 218, 'end': 219, 'intensity': 0.608021015868784}, {'note': 59, 'start': 219, 'end': 219, 'intensity': 0.8786543241730925}, {'note': 57, 'start': 220, 'end': 221, 'intensity': 0.6171809751606196}, {'note': 58, 'start': 219, 'end': 221, 'intensity': 0.9882789765844888}]\n",
      "[{'note': 40, 'start': 220, 'end': 221, 'intensity': 0.6203675534079811}, {'note': 41, 'start': 220, 'end': 221, 'intensity': 0.7439560185650197}, {'note': 42, 'start': 220, 'end': 220, 'intensity': 0.619504134234769}, {'note': 43, 'start': 217, 'end': 219, 'intensity': 0.9848230867726062}, {'note': 45, 'start': 217, 'end': 218, 'intensity': 0.9921775249698953}]\n",
      "[{'note': 79, 'start': 223, 'end': 223, 'intensity': 0.9621031727335745}]\n",
      "[{'note': 32, 'start': 217, 'end': 223, 'intensity': 0.6862225671838764}, {'note': 34, 'start': 217, 'end': 218, 'intensity': 0.6292243666288175}, {'note': 37, 'start': 222, 'end': 223, 'intensity': 0.8106775193961244}, {'note': 33, 'start': 222, 'end': 223, 'intensity': 0.6908760446160362}, {'note': 35, 'start': 222, 'end': 223, 'intensity': 0.7678684795583712}]\n",
      "[{'note': 75, 'start': 220, 'end': 220, 'intensity': 0.6909883767209244}, {'note': 78, 'start': 220, 'end': 222, 'intensity': 0.7231584031504859}, {'note': 79, 'start': 220, 'end': 221, 'intensity': 0.8920641921768799}, {'note': 77, 'start': 210, 'end': 211, 'intensity': 0.9422639872437784}]\n",
      "[{'note': 36, 'start': 211, 'end': 213, 'intensity': 0.82167013228532}, {'note': 37, 'start': 211, 'end': 213, 'intensity': 0.8106775193961244}, {'note': 38, 'start': 211, 'end': 211, 'intensity': 0.7394760143261037}, {'note': 42, 'start': 211, 'end': 212, 'intensity': 0.7441743346826796}, {'note': 39, 'start': 211, 'end': 211, 'intensity': 0.6055008811396302}]\n",
      "[{'note': 56, 'start': 217, 'end': 218, 'intensity': 0.7152901568898684}, {'note': 57, 'start': 217, 'end': 218, 'intensity': 0.6171809751606196}, {'note': 58, 'start': 220, 'end': 220, 'intensity': 0.6292243666288175}]\n",
      "[{'note': 34, 'start': 223, 'end': 223, 'intensity': 0.6292243666288175}, {'note': 37, 'start': 211, 'end': 211, 'intensity': 0.9669760124800155}, {'note': 41, 'start': 220, 'end': 220, 'intensity': 0.7413976641231516}, {'note': 35, 'start': 216, 'end': 218, 'intensity': 0.7678684795583712}, {'note': 43, 'start': 218, 'end': 219, 'intensity': 0.9038009034581581}]\n",
      "[{'note': 57, 'start': 220, 'end': 220, 'intensity': 0.6908760446160362}, {'note': 58, 'start': 220, 'end': 221, 'intensity': 0.8823747034775925}]\n",
      "[{'note': 34, 'start': 222, 'end': 223, 'intensity': 0.9139161392383283}, {'note': 37, 'start': 213, 'end': 213, 'intensity': 0.9669760124800155}]\n",
      "[{'note': 77, 'start': 219, 'end': 219, 'intensity': 0.9935829448731116}, {'note': 78, 'start': 219, 'end': 219, 'intensity': 0.9999908614434049}, {'note': 79, 'start': 222, 'end': 222, 'intensity': 0.9978487164934383}]\n",
      "[{'note': 32, 'start': 211, 'end': 213, 'intensity': 0.6862225671838764}, {'note': 33, 'start': 211, 'end': 213, 'intensity': 0.6908760446160362}, {'note': 34, 'start': 211, 'end': 213, 'intensity': 0.6292243666288175}]\n",
      "[{'note': 75, 'start': 219, 'end': 219, 'intensity': 0.9247235777453974}, {'note': 78, 'start': 219, 'end': 221, 'intensity': 0.7281273739900187}, {'note': 79, 'start': 208, 'end': 208, 'intensity': 0.9848230867726063}, {'note': 77, 'start': 209, 'end': 209, 'intensity': 0.9647921583436898}]\n",
      "[{'note': 32, 'start': 226, 'end': 226, 'intensity': 0.6862225671838764}, {'note': 33, 'start': 226, 'end': 226, 'intensity': 0.6908760446160362}, {'note': 34, 'start': 225, 'end': 225, 'intensity': 0.9139161392383283}]\n",
      "[{'note': 75, 'start': 218, 'end': 219, 'intensity': 0.9533677152955753}, {'note': 78, 'start': 208, 'end': 208, 'intensity': 0.8922488660622355}, {'note': 77, 'start': 211, 'end': 211, 'intensity': 0.9647921583436898}]\n",
      "[{'note': 31, 'start': 211, 'end': 213, 'intensity': 0.6068171573270504}, {'note': 33, 'start': 223, 'end': 223, 'intensity': 0.9337658603499376}, {'note': 32, 'start': 215, 'end': 215, 'intensity': 0.6862225671838764}]\n",
      "[{'note': 56, 'start': 221, 'end': 221, 'intensity': 0.996006196629141}]\n",
      "[{'note': 30, 'start': 211, 'end': 213, 'intensity': 0.8922488660622399}, {'note': 33, 'start': 215, 'end': 215, 'intensity': 0.6908760446160362}]\n",
      "[{'note': 56, 'start': 220, 'end': 221, 'intensity': 0.7152901568898684}]\n",
      "[{'note': 75, 'start': 217, 'end': 217, 'intensity': 0.7661319642142014}, {'note': 78, 'start': 221, 'end': 222, 'intensity': 0.9999908614434049}]\n",
      "True\n"
     ]
    }
   ],
   "source": [
    "l = 0\n",
    "for i in result:\n",
    "    l += len(i)\n",
    "    print(i)\n",
    "print(l == len(word_groups[4]))"
   ]
  },
  {
   "cell_type": "code",
   "execution_count": null,
   "metadata": {},
   "outputs": [],
   "source": [
    "        # candidate = []\n",
    "        # for i,note in enumerate(notes_group):\n",
    "        #     if (note['note'] not in pitch_group) and (note['note']-pitch_group[0] <= 12):\n",
    "        #         if overlapped and note['note'] > (high + 1):\n",
    "        #             candidate.append(note)\n",
    "        #         elif not overlapped:\n",
    "        #             candidate.append(note)\n",
    "        # for c in candidate:\n",
    "        #     print(c)\n",
    "        # for j,note in enumerate(candidate):\n",
    "        #     if len(current_group) == 5:\n",
    "        #         break\n",
    "        #     for current_allocated_note in current_group:\n",
    "        #         if note['start'] == current_allocated_note['start'] and note['end'] == current_allocated_note['end']:\n",
    "        #             current_group.append(candidate.pop(j))\n",
    "        #             notes_group.remove(note)\n",
    "            \n",
    "        # for j,note in enumerate(candidate):\n",
    "        #     if len(current_group) == 5:\n",
    "        #         break\n",
    "        #     for current_allocated_note in current_group:\n",
    "        #         if note['start'] == current_allocated_note['start']:\n",
    "        #             current_group.append(candidate.pop(j))\n",
    "        #             notes_group.remove(note)\n",
    "            \n",
    "        # for j,note in enumerate(candidate):\n",
    "        #     if len(current_group) == 5:\n",
    "        #         break\n",
    "        #     for current_allocated_note in current_group:\n",
    "        #         if note['end'] == current_allocated_note['end']:\n",
    "        #             current_group.append(candidate.pop(j))\n",
    "        #             notes_group.remove(note)\n",
    "\n",
    "        # if len(current_group) != 5:\n",
    "        #     for k in range(5-len(current_group)):\n",
    "        #         current_group.append(candidate.pop(k))\n",
    "        #         notes_group.remove(candidate[k])"
   ]
  }
 ],
 "metadata": {
  "kernelspec": {
   "display_name": "base",
   "language": "python",
   "name": "python3"
  },
  "language_info": {
   "codemirror_mode": {
    "name": "ipython",
    "version": 3
   },
   "file_extension": ".py",
   "mimetype": "text/x-python",
   "name": "python",
   "nbconvert_exporter": "python",
   "pygments_lexer": "ipython3",
   "version": "3.8.15"
  },
  "orig_nbformat": 4,
  "vscode": {
   "interpreter": {
    "hash": "e4ba2c2835bac95b056450fe4ad657800f897c097f78b31e6de995f2a103de5f"
   }
  }
 },
 "nbformat": 4,
 "nbformat_minor": 2
}
