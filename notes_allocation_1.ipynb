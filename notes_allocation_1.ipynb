{
 "cells": [
  {
   "cell_type": "code",
   "execution_count": null,
   "metadata": {},
   "outputs": [],
   "source": [
    "## Constraints\n",
    "# 1. # of pianists, 2 hands, 5 fingers\n",
    "# 2. time apart\n",
    "# 3. spatial apart (in each hand cannot exceed one octave)\n",
    "# 4. within one octave > same intensity > notes start at the same time > last for same period > not adjacent"
   ]
  },
  {
   "cell_type": "code",
   "execution_count": null,
   "metadata": {},
   "outputs": [],
   "source": [
    "import numpy as np\n",
    "import scipy.io\n",
    "import matplotlib.pyplot as plt\n",
    "from midiutil import MIDIFile\n",
    "from pprint import pprint\n",
    "\n",
    "from utils import *\n",
    "\n",
    "import copy\n",
    "import random"
   ]
  },
  {
   "cell_type": "code",
   "execution_count": null,
   "metadata": {},
   "outputs": [],
   "source": [
    "## Parameters\n",
    "group_num = 21 * 2 #21 pianists, 2 hands each\n",
    "max_note_per_group = 5 #5 fingers\n",
    "\n",
    "#min_pitch_gap = not set\n",
    "win_length = 50e-3\n",
    "max_time_gap = 0.3\n",
    "max_frame_gap = int(round(max_time_gap / win_length))"
   ]
  },
  {
   "cell_type": "code",
   "execution_count": null,
   "metadata": {},
   "outputs": [],
   "source": [
    "key_time = 50e-3*0.5\n",
    "Fs = 48000\n",
    "\n",
    "#keys = scipy.io.loadmat('MATLAB_data/31Jan_jc.mat')['key']\n",
    "keys = scipy.io.loadmat('MATLAB_data/jw_key.mat')['key']\n",
    "# notes_list = scipy.io.loadmat('notes_88.mat')['notes']\n",
    "# freq_list = scipy.io.loadmat('freq_480.mat')['f_cropped']\n",
    "notes_list = scipy.io.loadmat('notes_100.mat')['notes']\n",
    "freq_list = scipy.io.loadmat('freq_480_octave_down.mat')['f_cropped']\n",
    "#freq_list = scipy.io.loadmat('freq_441.mat')['f_cropped']\n",
    "intensity_map = scipy.io.loadmat('MATLAB_data/jw_int.mat')['filtered_int_db']\n",
    "notes_list = notes_list.reshape(np.size(notes_list))\n",
    "freq_list = freq_list.reshape(np.size(freq_list))\n",
    "\n",
    "\n",
    "note_num = 88\n",
    "\n",
    "\n",
    "notes = []\n",
    "for i in range(np.shape(keys)[0]):\n",
    "    cur_key = keys[i]\n",
    "    cur_int = intensity_map[i]\n",
    "    cur_freq = freq_list[i]\n",
    "    notes = picknotes(cur_key, cur_freq, cur_int, notes, notes_list)\n",
    "\n",
    "notes = sorted(notes, key = lambda note: note.start)\n",
    "\n",
    "new_notes = remove_repetitive(notes,note_num)\n",
    "#pprint(new_notes)\n",
    "separate_majors(new_notes)\n"
   ]
  },
  {
   "cell_type": "code",
   "execution_count": null,
   "metadata": {},
   "outputs": [],
   "source": [
    "pprint(new_notes)"
   ]
  },
  {
   "cell_type": "code",
   "execution_count": null,
   "metadata": {},
   "outputs": [],
   "source": [
    "word_gap = 15\n",
    "def separate_word(notes,word_gap):\n",
    "    word_list = []\n",
    "    ptr = 0\n",
    "    for i in range(len(notes)-1):\n",
    "        if notes[i+1].start - notes[i].end >= word_gap:\n",
    "            word_list.append(notes[ptr:i+1])\n",
    "            ptr = i + 1\n",
    "        if i == len(notes) - 2:\n",
    "            word_list.append(notes[ptr:])\n",
    "    return word_list\n",
    "    "
   ]
  },
  {
   "cell_type": "code",
   "execution_count": null,
   "metadata": {},
   "outputs": [],
   "source": [
    "def valid_note_to_allocate(note,overlapped,pitch_group,high):\n",
    "    low = note.pitch if pitch_group == [] else min(pitch_group)\n",
    "    \n",
    "    if (note.pitch not in pitch_group) and (note.pitch-low <= 12):\n",
    "        #q remain: limit highest note range?\n",
    "        if overlapped and note.pitch < (high + 1):\n",
    "            return False\n",
    "        return True\n",
    "    return False\n",
    "\n",
    "def valid_to_add(counter,candidate,current_group):\n",
    "    c1 = counter < len(candidate)\n",
    "    c2 = len(current_group) < 5\n",
    "    return c1 and c2"
   ]
  },
  {
   "cell_type": "code",
   "execution_count": null,
   "metadata": {},
   "outputs": [],
   "source": [
    "def priority(note, current_allocated_note,major):\n",
    "    p = 0\n",
    "    if note.major == major:\n",
    "        p += 3\n",
    "\n",
    "    if note.intensity_sign == current_allocated_note.intensity_sign:\n",
    "        p += 4\n",
    "    \n",
    "    if note.start == current_allocated_note.start and note.end == current_allocated_note.end:\n",
    "        p += 2\n",
    "    \n",
    "    return p"
   ]
  },
  {
   "cell_type": "code",
   "execution_count": null,
   "metadata": {},
   "outputs": [],
   "source": [
    "def allocation(notes_group):\n",
    "    allocated_notes=[]\n",
    "    group = 1\n",
    "    overlapped = False #true if last group was left hand, current group is right hand, they should not overlap\n",
    "    while notes_group != [] and group <= group_num:\n",
    "        ## each while iteration allocate one group\n",
    "        current_group = []\n",
    "        pitch_group = []\n",
    "        \n",
    "        if not overlapped:\n",
    "            high = 0\n",
    "            minnote = min(notes_group, key = lambda note: note.pitch)\n",
    "            pitch_group = [minnote.pitch]\n",
    "            major = minnote.major\n",
    "            current_group.append(minnote)\n",
    "            notes_group.remove(minnote)\n",
    "        else:\n",
    "            for i in range(len(notes_group)):\n",
    "                if notes_group[i].pitch > (high + 1):\n",
    "                    pitch_group = [notes_group[i].pitch]\n",
    "                    current_group.append(notes_group.pop(i))\n",
    "                    break\n",
    "        candidate = []            \n",
    "        for current_allocated_note in current_group:\n",
    "            candidate = []\n",
    "            # counter = 0\n",
    "            for note in notes_group:\n",
    "                if not valid_note_to_allocate(note,overlapped,pitch_group,high):\n",
    "                    continue\n",
    "                p = priority(note,current_allocated_note,major)\n",
    "                candidate.append([p,note])\n",
    "            candidate.sort(key = lambda x: x[0], reverse=True)\n",
    "            #print(candidate)\n",
    "            counter = 0\n",
    "            while valid_to_add(counter,candidate,current_group):\n",
    "                if  (candidate[counter][1].pitch not in pitch_group) and (candidate[counter][0] > 4):\n",
    "                    pitch_group.append(candidate[counter][1].pitch)\n",
    "                    current_group.append(candidate[counter][1])\n",
    "                    notes_group.remove(candidate[counter][1])\n",
    "                counter += 1\n",
    "\n",
    "        counter = 0\n",
    "        while valid_to_add(counter,candidate,current_group):\n",
    "            if (candidate[counter][1].pitch not in pitch_group):\n",
    "                pitch_group.append(candidate[counter][1].pitch)\n",
    "                current_group.append(candidate[counter][1])\n",
    "                if candidate[counter][1] not in notes_group:\n",
    "                    print(candidate[counter][1])\n",
    "                notes_group.remove(candidate[counter][1])\n",
    "            counter += 1\n",
    "\n",
    "        if not overlapped:\n",
    "            high = max([n.pitch for n in current_group])\n",
    "\n",
    "        allocated_notes.append(current_group)\n",
    "\n",
    "        overlapped = not overlapped\n",
    "        group += 1 #finish allocate notes to one group, update\n",
    "    \n",
    "    counter = 0\n",
    "    while counter < len(notes_group):\n",
    "        note = notes_group[counter]\n",
    "        for i, allocated_group in enumerate(allocated_notes):\n",
    "            if len(allocated_group) >= 4:\n",
    "                continue\n",
    "            if len(allocated_group) < 4:\n",
    "                pitch_group = [n.pitch for n in allocated_group]\n",
    "                high = max([n.pitch for n in allocated_notes[i-1]]) if i % 2 == 0 else 0\n",
    "                overlapped = True if i % 2 == 0 else False\n",
    "                if valid_note_to_allocate(note,overlapped,pitch_group,high):\n",
    "                    allocated_group.append(note)\n",
    "                    notes_group.remove(note)\n",
    "                    break\n",
    "        counter += 1\n",
    "\n",
    "    if notes_group != []:\n",
    "        print('Failed :(    ',len(notes_group), 'notes unallocated.')\n",
    "        return False\n",
    "    else:\n",
    "        print('Success!')\n",
    "        return allocated_notes"
   ]
  },
  {
   "cell_type": "code",
   "execution_count": null,
   "metadata": {},
   "outputs": [],
   "source": [
    "word_groups = separate_word(new_notes,word_gap)\n",
    "for item in word_groups:\n",
    "    print(len(item))"
   ]
  },
  {
   "cell_type": "code",
   "execution_count": null,
   "metadata": {},
   "outputs": [],
   "source": [
    "# word_groups = separate_word(new_notes)\n",
    "final_allocation = [[],[]]\n",
    "result_all = []\n",
    "for i in range(2,5):\n",
    "    print(i)\n",
    "    current_allocate_group = copy.deepcopy(word_groups[i])\n",
    "    result = False\n",
    "    while not result:\n",
    "        result = allocation(current_allocate_group)\n",
    "        current_allocate_group = copy.deepcopy(word_groups[i])\n",
    "        random.shuffle(current_allocate_group)\n",
    "    result_all.append(result)\n",
    "    final_allocation[0].extend(result[0])\n",
    "    final_allocation[1].extend(result[1])\n",
    "    pprint(final_allocation)\n",
    "\n",
    "    "
   ]
  },
  {
   "cell_type": "code",
   "execution_count": null,
   "metadata": {},
   "outputs": [],
   "source": [
    "current_allocate_group = copy.deepcopy(word_groups[4])\n",
    "result = False\n",
    "while not result:\n",
    "    result = allocation(current_allocate_group)\n",
    "    current_allocate_group = copy.deepcopy(word_groups[4])\n",
    "    random.shuffle(current_allocate_group)\n"
   ]
  },
  {
   "cell_type": "code",
   "execution_count": null,
   "metadata": {},
   "outputs": [],
   "source": [
    "plot_notes(new_notes)\n",
    "plt.show()\n",
    "word_groups = separate_word(new_notes)\n",
    "for g in word_groups:\n",
    "    plot_notes(g)\n",
    "plt.show()"
   ]
  },
  {
   "cell_type": "code",
   "execution_count": null,
   "metadata": {},
   "outputs": [],
   "source": [
    "mf = MIDIFile(2)     # only 1 track\n",
    "#track = 0   # the only track\n",
    "time = 0    # start at the beginning\n",
    "mf.addTrackName(0, time, \"Right\")\n",
    "mf.addTrackName(1, time, \"Left\")\n",
    "mf.addTempo(0, time, 1200)\n",
    "mf.addTempo(1, time, 1200)"
   ]
  },
  {
   "cell_type": "code",
   "execution_count": null,
   "metadata": {},
   "outputs": [],
   "source": [
    "for i in range(2):    \n",
    "    for note in final_allocation[1-i]:\n",
    "        # v = int(50+note.sign()*12.5)\n",
    "        v = int(20+note.sign()*20)\n",
    "        mf.addNote(i,i,note.pitch+20, note.start, note.end-note.start+1,v)"
   ]
  },
  {
   "cell_type": "code",
   "execution_count": null,
   "metadata": {},
   "outputs": [],
   "source": [
    "with open(\"midifile/22Feb_allocation.mid\", 'wb') as outf:\n",
    "   mf.writeFile(outf)"
   ]
  },
  {
   "cell_type": "code",
   "execution_count": null,
   "metadata": {},
   "outputs": [],
   "source": [
    "pprint(final_allocation)"
   ]
  },
  {
   "cell_type": "code",
   "execution_count": null,
   "metadata": {},
   "outputs": [],
   "source": [
    "import numpy as np\n",
    "array = np.array(result_all,dtype=object)\n",
    "np.save(\"allocation_result.npy\", array)"
   ]
  }
 ],
 "metadata": {
  "kernelspec": {
   "display_name": "base",
   "language": "python",
   "name": "python3"
  },
  "language_info": {
   "codemirror_mode": {
    "name": "ipython",
    "version": 3
   },
   "file_extension": ".py",
   "mimetype": "text/x-python",
   "name": "python",
   "nbconvert_exporter": "python",
   "pygments_lexer": "ipython3",
   "version": "3.8.15"
  },
  "orig_nbformat": 4,
  "vscode": {
   "interpreter": {
    "hash": "e4ba2c2835bac95b056450fe4ad657800f897c097f78b31e6de995f2a103de5f"
   }
  }
 },
 "nbformat": 4,
 "nbformat_minor": 2
}
