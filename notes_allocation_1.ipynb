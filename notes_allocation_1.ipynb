{
 "cells": [
  {
   "cell_type": "code",
   "execution_count": null,
   "metadata": {},
   "outputs": [],
   "source": [
    "## Constraints\n",
    "# 1. # of pianists, 2 hands, 5 fingers\n",
    "# 2. time apart\n",
    "# 3. spatial apart (in each hand cannot exceed one octave)\n",
    "# 4. within one octave > same intensity > notes start at the same time > last for same period > not adjacent"
   ]
  },
  {
   "cell_type": "code",
   "execution_count": 1,
   "metadata": {},
   "outputs": [],
   "source": [
    "import numpy as np\n",
    "import scipy.io\n",
    "import matplotlib.pyplot as plt\n",
    "from midiutil import MIDIFile\n",
    "from pprint import pprint\n",
    "\n",
    "from utils import *\n",
    "\n",
    "import random"
   ]
  },
  {
   "cell_type": "code",
   "execution_count": null,
   "metadata": {},
   "outputs": [],
   "source": [
    "## Parameters\n",
    "group_num = 21 * 2 #21 pianists, 2 hands each\n",
    "max_note_per_group = 5 #5 fingers\n",
    "\n",
    "#min_pitch_gap = not set\n",
    "win_length = 50e-3\n",
    "max_time_gap = 0.3\n",
    "max_frame_gap = int(round(max_time_gap / win_length))"
   ]
  },
  {
   "cell_type": "code",
   "execution_count": null,
   "metadata": {},
   "outputs": [],
   "source": [
    "key_time = 50e-3*0.5\n",
    "Fs = 48000\n",
    "\n",
    "#keys = scipy.io.loadmat('MATLAB_data/31Jan_jc.mat')['key']\n",
    "keys = scipy.io.loadmat('MATLAB_data/doing_tdy_88.mat')['key']\n",
    "notes_list = scipy.io.loadmat('notes_88.mat')['notes']\n",
    "freq_list = scipy.io.loadmat('freq_480.mat')['f_cropped']\n",
    "#freq_list = scipy.io.loadmat('freq_441.mat')['f_cropped']\n",
    "notes_list = notes_list.reshape(np.size(notes_list))\n",
    "freq_list = freq_list.reshape(np.size(freq_list))\n",
    "\n",
    "note_num = 88\n",
    "\n",
    "\n",
    "notes = []\n",
    "for i in range(np.shape(keys)[0]):\n",
    "    cur_key = keys[i]\n",
    "    cur_freq = freq_list[i]\n",
    "    notes = picknotes(cur_key,cur_freq,notes,notes_list)\n",
    "\n",
    "notes = sorted(notes, key = lambda note: note.start)\n",
    "\n",
    "new_notes = remove_repetitive(notes,note_num)\n",
    "#pprint(new_notes)"
   ]
  },
  {
   "cell_type": "code",
   "execution_count": null,
   "metadata": {},
   "outputs": [],
   "source": [
    "pprint(new_notes)"
   ]
  },
  {
   "cell_type": "code",
   "execution_count": null,
   "metadata": {},
   "outputs": [],
   "source": [
    "word_gap = 15\n",
    "def separate_word(notes):\n",
    "    word_list = []\n",
    "    ptr = 0\n",
    "    for i in range(len(notes)-1):\n",
    "        if notes[i+1].start - notes[i].end >= word_gap:\n",
    "            word_list.append(notes[ptr:i+1])\n",
    "            ptr = i + 1\n",
    "        if i == len(notes) - 2:\n",
    "            word_list.append(notes[ptr:])\n",
    "    return word_list\n",
    "    "
   ]
  },
  {
   "cell_type": "code",
   "execution_count": null,
   "metadata": {},
   "outputs": [],
   "source": [
    "def valid_note_to_allocate(note,overlapped,pitch_group,high):\n",
    "    if (note.pitch not in pitch_group) and (note.pitch-min(pitch_group) <= 12):\n",
    "        #q remain: limit highest note range?\n",
    "        if overlapped and note.pitch < (high + 1):\n",
    "            return False\n",
    "        return True\n",
    "    return False\n",
    "\n",
    "def valid_to_add(counter,candidate,current_group):\n",
    "    c1 = counter < len(candidate)\n",
    "    c2 = len(current_group) < 5\n",
    "    return c1 and c2"
   ]
  },
  {
   "cell_type": "code",
   "execution_count": null,
   "metadata": {},
   "outputs": [],
   "source": [
    "def priority(note, current_allocated_note):\n",
    "    p = 0\n",
    "    if note.major == current_allocated_note.major:\n",
    "        p += 3\n",
    "\n",
    "    if note.intensity_sign == current_allocated_note.intensity_sign:\n",
    "        p += 4\n",
    "    \n",
    "    if note.start == current_allocated_note.start and note.end == current_allocated_note.end:\n",
    "        p += 2\n",
    "    \n",
    "    return p"
   ]
  },
  {
   "cell_type": "code",
   "execution_count": null,
   "metadata": {},
   "outputs": [],
   "source": [
    "def allocation(notes_group):\n",
    "    allocated_notes=[]\n",
    "    group = 1\n",
    "    overlapped = False #true if last group was left hand, current group is right hand, they should not overlap\n",
    "    while notes_group != [] and group <= group_num:\n",
    "        ## each while iteration allocate one group\n",
    "        current_group = []\n",
    "        \n",
    "        if not overlapped:\n",
    "            high = 0\n",
    "            minnote = min(notes_group, key = lambda note: note.pitch)\n",
    "            pitch_group = [minnote.pitch]\n",
    "            current_group.append(minnote)\n",
    "            notes_group.remove(minnote)\n",
    "        else:\n",
    "            # copy_list = notes_group.copy()\n",
    "            # copy_list = sorted(copy_list, key = lambda note: note.pitch)\n",
    "            for i in range(len(notes_group)):\n",
    "                if notes_group[i].pitch > (high + 1):\n",
    "                    pitch_group = [notes_group[i].pitch]\n",
    "                    # current_group.append(copy_list[i])\n",
    "                    # notes_group.remove(copy_list[i])\n",
    "                    current_group.append(notes_group.pop(i))\n",
    "                    break\n",
    "        for current_allocated_note in current_group:\n",
    "            candidate = []\n",
    "            # counter = 0\n",
    "            for note in notes_group:\n",
    "                if not valid_note_to_allocate(note,overlapped,pitch_group,high):\n",
    "                    continue\n",
    "                #print('n',note)\n",
    "                p = priority(note,current_allocated_note)\n",
    "                candidate.append([p,note])\n",
    "                # if note.intensity_sign == current_allocated_note.intensity_sign:\n",
    "                #     if note.start == current_allocated_note.start and note.end == current_allocated_note.end:\n",
    "                #         candidate.append([1,note])\n",
    "                #         # counter += 1\n",
    "                #     else:\n",
    "                #         candidate.append([2,note])\n",
    "                # elif note.start == current_allocated_note.start and note.end == current_allocated_note.end:\n",
    "                #     candidate.append([3,note])\n",
    "                # #     counter += 1\n",
    "                # # elif counter == 4:\n",
    "                # #     continue\n",
    "                # else:    \n",
    "                #     candidate.append([4,note])\n",
    "            candidate.sort(key = lambda x: x[0])\n",
    "            counter = 0\n",
    "            while valid_to_add(counter,candidate,current_group):\n",
    "                if  (candidate[counter][1].pitch not in pitch_group) and (candidate[counter][0] != 4):\n",
    "                    pitch_group.append(candidate[counter][1].pitch)\n",
    "                    current_group.append(candidate[counter][1])\n",
    "                    notes_group.remove(candidate[counter][1])\n",
    "                counter += 1\n",
    "        # print('c')\n",
    "        # pprint(candidate)\n",
    "        # print('n')\n",
    "        # pprint(notes_group)\n",
    "        # print('q')\n",
    "        # pprint(current_group)\n",
    "        counter = 0\n",
    "        while valid_to_add(counter,candidate,current_group):\n",
    "            if (candidate[counter][1].pitch not in pitch_group):\n",
    "                pitch_group.append(candidate[counter][1].pitch)\n",
    "                current_group.append(candidate[counter][1])\n",
    "                notes_group.remove(candidate[counter][1])\n",
    "            counter += 1\n",
    "        # candidate.sort(key = lambda x: x[0])\n",
    "        # counter = 0\n",
    "        # while len(current_group) < 5 and counter < len(candidate):\n",
    "        #     if candidate[counter][1].pitch not in pitch_group:\n",
    "        #         pitch_group.append(candidate[counter][1].pitch)\n",
    "        #         current_group.append(candidate[counter][1])\n",
    "        #         notes_group.remove(candidate[counter][1])\n",
    "        #     counter += 1\n",
    "        # print('h')\n",
    "        # pprint(current_group)        \n",
    "        if not overlapped:\n",
    "            high = 0\n",
    "            for note in current_group:\n",
    "                high = max(high,note.pitch)\n",
    "\n",
    "        allocated_notes.append(current_group)\n",
    "\n",
    "        overlapped = not overlapped\n",
    "        group += 1 #finish allocate notes to one group, update\n",
    "    \n",
    "    if notes_group != []:\n",
    "        #pprint(allocated_notes)\n",
    "        print('Failed :(    ',len(notes_group), 'notes unallocated.')\n",
    "        return False\n",
    "    else:\n",
    "        return allocated_notes"
   ]
  },
  {
   "cell_type": "code",
   "execution_count": null,
   "metadata": {},
   "outputs": [],
   "source": [
    "print(group_num)"
   ]
  },
  {
   "cell_type": "code",
   "execution_count": null,
   "metadata": {},
   "outputs": [],
   "source": [
    "word_groups = separate_word(new_notes)\n",
    "final_allocation = [[],[]]\n",
    "for i in range(0,5):\n",
    "    print(i)\n",
    "    current_allocate_group = word_groups[i].copy()\n",
    "    result = False\n",
    "    while not result:\n",
    "        result = allocation(current_allocate_group)\n",
    "        current_allocate_group = word_groups[i].copy()\n",
    "        random.shuffle(current_allocate_group)\n",
    "    \n",
    "    final_allocation[0].extend(result[0])\n",
    "    final_allocation[1].extend(result[1])\n",
    "    pprint(final_allocation)\n",
    "    print('success')\n",
    "\n",
    "    "
   ]
  },
  {
   "cell_type": "code",
   "execution_count": null,
   "metadata": {},
   "outputs": [],
   "source": [
    "word_groups = separate_word(new_notes)\n",
    "current_allocate_group = word_groups[i].copy()\n",
    "random.shuffle(current_allocate_group)\n",
    "result = allocation(current_allocate_group)"
   ]
  },
  {
   "cell_type": "code",
   "execution_count": null,
   "metadata": {},
   "outputs": [],
   "source": [
    "if separate:\n",
    "    ### TOBE FINISHED\n",
    "    notes_groups = separate_majors(notes)\n",
    "    result = []\n",
    "    # for group in notes_groups:\n",
    "    #     word_groups = separate_word(group)\n",
    "    #     r = allocation(group)\n",
    "    #     if not r:\n",
    "    #         result.append(r)\n",
    "    #     else:\n",
    "    #         break\n",
    "else:\n",
    "    new_notes = sorted(new_notes, key = lambda notes: notes[\"start\"])\n",
    "    word_groups = separate_word(new_notes)\n",
    "    #result = allocation(notes)"
   ]
  },
  {
   "cell_type": "code",
   "execution_count": null,
   "metadata": {},
   "outputs": [],
   "source": [
    "## visualization tool\n",
    "def plot_notes(note_list):\n",
    "    time =[]\n",
    "    pitch = []\n",
    "    for note in note_list:\n",
    "        time.append(note.start)\n",
    "        pitch.append(note.pitch)\n",
    "    plt.scatter(time,pitch,s=1)"
   ]
  },
  {
   "cell_type": "code",
   "execution_count": null,
   "metadata": {},
   "outputs": [],
   "source": [
    "plot_notes(new_notes)\n",
    "plt.show()\n",
    "word_groups = separate_word(new_notes)\n",
    "for g in word_groups:\n",
    "    plot_notes(g)\n",
    "plt.show()"
   ]
  },
  {
   "cell_type": "code",
   "execution_count": null,
   "metadata": {},
   "outputs": [],
   "source": [
    "print(len(new_notes))"
   ]
  },
  {
   "cell_type": "code",
   "execution_count": null,
   "metadata": {},
   "outputs": [],
   "source": [
    "for item in word_groups:\n",
    "    print(len(item))"
   ]
  },
  {
   "cell_type": "code",
   "execution_count": null,
   "metadata": {},
   "outputs": [],
   "source": [
    "for node in word_groups[0]:\n",
    "    print(node)\n",
    "print(len(word_groups[0]))"
   ]
  },
  {
   "cell_type": "code",
   "execution_count": null,
   "metadata": {},
   "outputs": [],
   "source": [
    "word_groups = separate_word(new_notes)\n",
    "test_group = word_groups[2].copy()\n",
    "result = False\n",
    "while not result:\n",
    "    result = allocation(test_group)\n",
    "    test_group = word_groups[2].copy()\n",
    "    random.shuffle(test_group)"
   ]
  },
  {
   "cell_type": "code",
   "execution_count": null,
   "metadata": {},
   "outputs": [],
   "source": [
    "print(len(result))\n",
    "pprint(result)"
   ]
  },
  {
   "cell_type": "code",
   "execution_count": null,
   "metadata": {},
   "outputs": [],
   "source": [
    "print(final_allocation)"
   ]
  },
  {
   "cell_type": "code",
   "execution_count": null,
   "metadata": {},
   "outputs": [],
   "source": [
    "mf = MIDIFile(2)     # only 1 track\n",
    "#track = 0   # the only track\n",
    "time = 0    # start at the beginning\n",
    "mf.addTrackName(0, time, \"Right\")\n",
    "mf.addTrackName(1, time, \"Left\")\n",
    "mf.addTempo(0, time, 1200)\n",
    "mf.addTempo(1, time, 1200)"
   ]
  },
  {
   "cell_type": "code",
   "execution_count": null,
   "metadata": {},
   "outputs": [],
   "source": [
    "for i in range(2):    \n",
    "    for note in final_allocation[1-i]:\n",
    "        v = int(50+note.sign()*12.5)\n",
    "        mf.addNote(i,i,note.pitch+20, note.start, note.end-note.start+1,v)"
   ]
  },
  {
   "cell_type": "code",
   "execution_count": null,
   "metadata": {},
   "outputs": [],
   "source": [
    "with open(\"midifile/allocation_test_C_major_100.mid\", 'wb') as outf:\n",
    "   mf.writeFile(outf)"
   ]
  },
  {
   "cell_type": "code",
   "execution_count": null,
   "metadata": {},
   "outputs": [],
   "source": [
    "pprint(final_allocation)"
   ]
  },
  {
   "cell_type": "code",
   "execution_count": null,
   "metadata": {},
   "outputs": [],
   "source": [
    "l = 0\n",
    "for i in result:\n",
    "    l += len(i)\n",
    "    print(i)\n",
    "print(l == len(word_groups[4]))"
   ]
  },
  {
   "cell_type": "code",
   "execution_count": null,
   "metadata": {},
   "outputs": [],
   "source": [
    "        # candidate = []\n",
    "        # for i,note in enumerate(notes_group):\n",
    "        #     if (note['note'] not in pitch_group) and (note['note']-pitch_group[0] <= 12):\n",
    "        #         if overlapped and note['note'] > (high + 1):\n",
    "        #             candidate.append(note)\n",
    "        #         elif not overlapped:\n",
    "        #             candidate.append(note)\n",
    "        # for c in candidate:\n",
    "        #     print(c)\n",
    "        # for j,note in enumerate(candidate):\n",
    "        #     if len(current_group) == 5:\n",
    "        #         break\n",
    "        #     for current_allocated_note in current_group:\n",
    "        #         if note['start'] == current_allocated_note['start'] and note['end'] == current_allocated_note['end']:\n",
    "        #             current_group.append(candidate.pop(j))\n",
    "        #             notes_group.remove(note)\n",
    "            \n",
    "        # for j,note in enumerate(candidate):\n",
    "        #     if len(current_group) == 5:\n",
    "        #         break\n",
    "        #     for current_allocated_note in current_group:\n",
    "        #         if note['start'] == current_allocated_note['start']:\n",
    "        #             current_group.append(candidate.pop(j))\n",
    "        #             notes_group.remove(note)\n",
    "            \n",
    "        # for j,note in enumerate(candidate):\n",
    "        #     if len(current_group) == 5:\n",
    "        #         break\n",
    "        #     for current_allocated_note in current_group:\n",
    "        #         if note['end'] == current_allocated_note['end']:\n",
    "        #             current_group.append(candidate.pop(j))\n",
    "        #             notes_group.remove(note)\n",
    "\n",
    "        # if len(current_group) != 5:\n",
    "        #     for k in range(5-len(current_group)):\n",
    "        #         current_group.append(candidate.pop(k))\n",
    "        #         notes_group.remove(candidate[k])"
   ]
  },
  {
   "cell_type": "code",
   "execution_count": null,
   "metadata": {},
   "outputs": [],
   "source": [
    "def separate_majors(notes):\n",
    "    C_major = [1,3,4,6,8,9,11]\n",
    "    Gb_major = [0,2,3,5,7,9,10]\n",
    "\n",
    "    C_notes = []\n",
    "    Gb_notes = []\n",
    "\n",
    "    len_all = len(notes)\n",
    "\n",
    "    # for i,note in enumerate(notes):\n",
    "    #     seq = note.pitch % 12\n",
    "    #     if (seq in C_major) and (seq not in Gb_major):\n",
    "    #         C_notes.append(notes.pop(i))\n",
    "    #     elif (seq in Gb_major) and (seq not in C_major):\n",
    "    #         Gb_notes.append(notes.pop(i))\n",
    "    i = 0\n",
    "    while i < len(notes):\n",
    "        note = notes[i]\n",
    "        seq = note.pitch % 12\n",
    "        if (seq in C_major) and (seq not in Gb_major):\n",
    "            C_notes.append(notes.pop(i))\n",
    "            i -= 1\n",
    "        elif (seq in Gb_major) and (seq not in C_major):\n",
    "            Gb_notes.append(notes.pop(i))\n",
    "            i -= 1\n",
    "        i += 1\n",
    "\n",
    "\n",
    "    j = len(notes)\n",
    "    while j > 0:\n",
    "        #print(notes[0].pitch % 12)\n",
    "        if j % 2 == 0:\n",
    "            C_notes.append(notes.pop(0))\n",
    "        else:\n",
    "            Gb_notes.append(notes.pop(0))\n",
    "        j -= 1\n",
    "    if len_all!= len(C_notes) + len(Gb_notes):\n",
    "        print('False')\n",
    "    return [C_notes, Gb_notes]  "
   ]
  },
  {
   "cell_type": "code",
   "execution_count": null,
   "metadata": {},
   "outputs": [],
   "source": [
    "notes = C_notes.copy()\n",
    "print(len(notes))\n",
    "result = separate_majors(notes)\n",
    "print(len(result[0]))\n",
    "notes2 = result[0].copy()\n",
    "result2 = separate_majors(notes2)\n",
    "print(len(result2[1]))"
   ]
  },
  {
   "cell_type": "code",
   "execution_count": null,
   "metadata": {},
   "outputs": [],
   "source": [
    "# len_notes = len(new_notes)\n",
    "# C_notes, Gb_notes = separate_majors(new_notes)\n",
    "# group_num2 = [round(21*len(C_notes)/len_notes) * 2, 42 - round(21*len(C_notes)/len_notes) * 2]\n",
    "# print(group_num2)"
   ]
  }
 ],
 "metadata": {
  "kernelspec": {
   "display_name": "base",
   "language": "python",
   "name": "python3"
  },
  "language_info": {
   "codemirror_mode": {
    "name": "ipython",
    "version": 3
   },
   "file_extension": ".py",
   "mimetype": "text/x-python",
   "name": "python",
   "nbconvert_exporter": "python",
   "pygments_lexer": "ipython3",
   "version": "3.8.15"
  },
  "orig_nbformat": 4,
  "vscode": {
   "interpreter": {
    "hash": "e4ba2c2835bac95b056450fe4ad657800f897c097f78b31e6de995f2a103de5f"
   }
  }
 },
 "nbformat": 4,
 "nbformat_minor": 2
}
